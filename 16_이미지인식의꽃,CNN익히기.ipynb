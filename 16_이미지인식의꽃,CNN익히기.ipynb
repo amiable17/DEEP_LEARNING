{
  "nbformat": 4,
  "nbformat_minor": 0,
  "metadata": {
    "colab": {
      "name": "16.이미지인식의꽃,CNN익히기.ipynb",
      "provenance": [],
      "collapsed_sections": [],
      "authorship_tag": "ABX9TyNUJ3Qu3JQa7ACU09IzeThN",
      "include_colab_link": true
    },
    "kernelspec": {
      "name": "python3",
      "display_name": "Python 3"
    },
    "accelerator": "GPU"
  },
  "cells": [
    {
      "cell_type": "markdown",
      "metadata": {
        "id": "view-in-github",
        "colab_type": "text"
      },
      "source": [
        "<a href=\"https://colab.research.google.com/github/amiable17/Deep_Learning/blob/master/study1/16_%EC%9D%B4%EB%AF%B8%EC%A7%80%EC%9D%B8%EC%8B%9D%EC%9D%98%EA%BD%83%2CCNN%EC%9D%B5%ED%9E%88%EA%B8%B0.ipynb\" target=\"_parent\"><img src=\"https://colab.research.google.com/assets/colab-badge.svg\" alt=\"Open In Colab\"/></a>"
      ]
    },
    {
      "cell_type": "markdown",
      "metadata": {
        "id": "7iGd6Aptms4p",
        "colab_type": "text"
      },
      "source": [
        "# **모두의 딥러닝**\n",
        "## 다섯째마당-딥러닝의 활용\n",
        "\n",
        "### 16장 이미지 인식의 꽃, CNN 익히기"
      ]
    },
    {
      "cell_type": "code",
      "metadata": {
        "id": "7rUanuBamh_o",
        "colab_type": "code",
        "outputId": "7882e24b-86b4-4994-dc47-70a2124d4053",
        "colab": {
          "base_uri": "https://localhost:8080/",
          "height": 154
        }
      },
      "source": [
        "# MNIST 데이터셋 불러오기\n",
        "from keras.datasets import mnist\n",
        "\n",
        "(X_train, Y_class_train), (X_test, Y_class_test) = mnist.load_data()\n",
        "\n",
        "print(\"학습셋 이미지 수: %d 개\" % (X_train.shape[0]))\n",
        "print(\"테스트셋 이미지 수: %d 개\" % (X_test.shape[0]))\n",
        "# 데이터셋: 미국 국립표준기술원(NIST)이 고등학생과 인구조사국 직원 등이 쓴 손글씨로 만든 데이터로 구성.\n",
        "# 70,000개의 글자 이미지에 각각 0부터 9까지 이름표를 붙인 데이터셋."
      ],
      "execution_count": 0,
      "outputs": [
        {
          "output_type": "stream",
          "text": [
            "Using TensorFlow backend.\n"
          ],
          "name": "stderr"
        },
        {
          "output_type": "display_data",
          "data": {
            "text/html": [
              "<p style=\"color: red;\">\n",
              "The default version of TensorFlow in Colab will soon switch to TensorFlow 2.x.<br>\n",
              "We recommend you <a href=\"https://www.tensorflow.org/guide/migrate\" target=\"_blank\">upgrade</a> now \n",
              "or ensure your notebook will continue to use TensorFlow 1.x via the <code>%tensorflow_version 1.x</code> magic:\n",
              "<a href=\"https://colab.research.google.com/notebooks/tensorflow_version.ipynb\" target=\"_blank\">more info</a>.</p>\n"
            ],
            "text/plain": [
              "<IPython.core.display.HTML object>"
            ]
          },
          "metadata": {
            "tags": []
          }
        },
        {
          "output_type": "stream",
          "text": [
            "Downloading data from https://s3.amazonaws.com/img-datasets/mnist.npz\n",
            "11493376/11490434 [==============================] - 1s 0us/step\n",
            "학습셋 이미지 수: 60000 개\n",
            "테스트셋 이미지 수: 10000 개\n"
          ],
          "name": "stdout"
        }
      ]
    },
    {
      "cell_type": "code",
      "metadata": {
        "id": "9OGQYzSynpF5",
        "colab_type": "code",
        "outputId": "10c57ad6-907d-417b-a95a-c7e74bcb1637",
        "colab": {
          "base_uri": "https://localhost:8080/",
          "height": 283
        }
      },
      "source": [
        "# 불러온 이미지 중 한 개만 불러와서 이미지 출력해보기\n",
        "import matplotlib.pyplot as plt\n",
        "plt.imshow(X_train[0], cmap = \"Greys\")\n",
        "plt.show()\n",
        "\n",
        "# 해당 이미지의 label 확인\n",
        "print(\"Class : %d\" % (Y_class_train[0]))"
      ],
      "execution_count": 0,
      "outputs": [
        {
          "output_type": "display_data",
          "data": {
            "image/png": "[encoded data removed]",
            "text/plain": [
              "<Figure size 432x288 with 1 Axes>"
            ]
          },
          "metadata": {
            "tags": []
          }
        },
        {
          "output_type": "stream",
          "text": [
            "Class : 5\n"
          ],
          "name": "stdout"
        }
      ]
    },
    {
      "cell_type": "code",
      "metadata": {
        "id": "8LrwTEwvn1Je",
        "colab_type": "code",
        "outputId": "90f28479-15bb-4123-e4a2-1e6ad2269f88",
        "colab": {
          "base_uri": "https://localhost:8080/",
          "height": 521
        }
      },
      "source": [
        "# 컴퓨터가 인식하는 이미지: 밝기 정도에 따라 0~255까지의 숫자로 픽셀을 인식\n",
        "import sys\n",
        "for x in X_train[0]:\n",
        "  for i in x:\n",
        "    sys.stdout.write('%d\\t' % i)\n",
        "  sys.stdout.write('\\n')"
      ],
      "execution_count": 0,
      "outputs": [
        {
          "output_type": "stream",
          "text": [
            "0\t0\t0\t0\t0\t0\t0\t0\t0\t0\t0\t0\t0\t0\t0\t0\t0\t0\t0\t0\t0\t0\t0\t0\t0\t0\t0\t0\t\n",
            "0\t0\t0\t0\t0\t0\t0\t0\t0\t0\t0\t0\t0\t0\t0\t0\t0\t0\t0\t0\t0\t0\t0\t0\t0\t0\t0\t0\t\n",
            "0\t0\t0\t0\t0\t0\t0\t0\t0\t0\t0\t0\t0\t0\t0\t0\t0\t0\t0\t0\t0\t0\t0\t0\t0\t0\t0\t0\t\n",
            "0\t0\t0\t0\t0\t0\t0\t0\t0\t0\t0\t0\t0\t0\t0\t0\t0\t0\t0\t0\t0\t0\t0\t0\t0\t0\t0\t0\t\n",
            "0\t0\t0\t0\t0\t0\t0\t0\t0\t0\t0\t0\t0\t0\t0\t0\t0\t0\t0\t0\t0\t0\t0\t0\t0\t0\t0\t0\t\n",
            "0\t0\t0\t0\t0\t0\t0\t0\t0\t0\t0\t0\t3\t18\t18\t18\t126\t136\t175\t26\t166\t255\t247\t127\t0\t0\t0\t0\t\n",
            "0\t0\t0\t0\t0\t0\t0\t0\t30\t36\t94\t154\t170\t253\t253\t253\t253\t253\t225\t172\t253\t242\t195\t64\t0\t0\t0\t0\t\n",
            "0\t0\t0\t0\t0\t0\t0\t49\t238\t253\t253\t253\t253\t253\t253\t253\t253\t251\t93\t82\t82\t56\t39\t0\t0\t0\t0\t0\t\n",
            "0\t0\t0\t0\t0\t0\t0\t18\t219\t253\t253\t253\t253\t253\t198\t182\t247\t241\t0\t0\t0\t0\t0\t0\t0\t0\t0\t0\t\n",
            "0\t0\t0\t0\t0\t0\t0\t0\t80\t156\t107\t253\t253\t205\t11\t0\t43\t154\t0\t0\t0\t0\t0\t0\t0\t0\t0\t0\t\n",
            "0\t0\t0\t0\t0\t0\t0\t0\t0\t14\t1\t154\t253\t90\t0\t0\t0\t0\t0\t0\t0\t0\t0\t0\t0\t0\t0\t0\t\n",
            "0\t0\t0\t0\t0\t0\t0\t0\t0\t0\t0\t139\t253\t190\t2\t0\t0\t0\t0\t0\t0\t0\t0\t0\t0\t0\t0\t0\t\n",
            "0\t0\t0\t0\t0\t0\t0\t0\t0\t0\t0\t11\t190\t253\t70\t0\t0\t0\t0\t0\t0\t0\t0\t0\t0\t0\t0\t0\t\n",
            "0\t0\t0\t0\t0\t0\t0\t0\t0\t0\t0\t0\t35\t241\t225\t160\t108\t1\t0\t0\t0\t0\t0\t0\t0\t0\t0\t0\t\n",
            "0\t0\t0\t0\t0\t0\t0\t0\t0\t0\t0\t0\t0\t81\t240\t253\t253\t119\t25\t0\t0\t0\t0\t0\t0\t0\t0\t0\t\n",
            "0\t0\t0\t0\t0\t0\t0\t0\t0\t0\t0\t0\t0\t0\t45\t186\t253\t253\t150\t27\t0\t0\t0\t0\t0\t0\t0\t0\t\n",
            "0\t0\t0\t0\t0\t0\t0\t0\t0\t0\t0\t0\t0\t0\t0\t16\t93\t252\t253\t187\t0\t0\t0\t0\t0\t0\t0\t0\t\n",
            "0\t0\t0\t0\t0\t0\t0\t0\t0\t0\t0\t0\t0\t0\t0\t0\t0\t249\t253\t249\t64\t0\t0\t0\t0\t0\t0\t0\t\n",
            "0\t0\t0\t0\t0\t0\t0\t0\t0\t0\t0\t0\t0\t0\t46\t130\t183\t253\t253\t207\t2\t0\t0\t0\t0\t0\t0\t0\t\n",
            "0\t0\t0\t0\t0\t0\t0\t0\t0\t0\t0\t0\t39\t148\t229\t253\t253\t253\t250\t182\t0\t0\t0\t0\t0\t0\t0\t0\t\n",
            "0\t0\t0\t0\t0\t0\t0\t0\t0\t0\t24\t114\t221\t253\t253\t253\t253\t201\t78\t0\t0\t0\t0\t0\t0\t0\t0\t0\t\n",
            "0\t0\t0\t0\t0\t0\t0\t0\t23\t66\t213\t253\t253\t253\t253\t198\t81\t2\t0\t0\t0\t0\t0\t0\t0\t0\t0\t0\t\n",
            "0\t0\t0\t0\t0\t0\t18\t171\t219\t253\t253\t253\t253\t195\t80\t9\t0\t0\t0\t0\t0\t0\t0\t0\t0\t0\t0\t0\t\n",
            "0\t0\t0\t0\t55\t172\t226\t253\t253\t253\t253\t244\t133\t11\t0\t0\t0\t0\t0\t0\t0\t0\t0\t0\t0\t0\t0\t0\t\n",
            "0\t0\t0\t0\t136\t253\t253\t253\t212\t135\t132\t16\t0\t0\t0\t0\t0\t0\t0\t0\t0\t0\t0\t0\t0\t0\t0\t0\t\n",
            "0\t0\t0\t0\t0\t0\t0\t0\t0\t0\t0\t0\t0\t0\t0\t0\t0\t0\t0\t0\t0\t0\t0\t0\t0\t0\t0\t0\t\n",
            "0\t0\t0\t0\t0\t0\t0\t0\t0\t0\t0\t0\t0\t0\t0\t0\t0\t0\t0\t0\t0\t0\t0\t0\t0\t0\t0\t0\t\n",
            "0\t0\t0\t0\t0\t0\t0\t0\t0\t0\t0\t0\t0\t0\t0\t0\t0\t0\t0\t0\t0\t0\t0\t0\t0\t0\t0\t0\t\n"
          ],
          "name": "stdout"
        }
      ]
    },
    {
      "cell_type": "code",
      "metadata": {
        "id": "BbEKA3vJoB-A",
        "colab_type": "code",
        "outputId": "6b2c8cdd-59fd-46e4-dc10-a8fe2f17b245",
        "colab": {
          "base_uri": "https://localhost:8080/",
          "height": 35
        }
      },
      "source": [
        "print(X_train.shape)\n",
        "# (60000, 28, 28). 따라서 28 * 28 = 784개의 속성을 이용해서 맞추는 문제\n",
        "# 784의 1차원 배열로 바꿔 주어야 함.\n",
        "X_train = X_train.reshape(X_train.shape[0], 784)"
      ],
      "execution_count": 0,
      "outputs": [
        {
          "output_type": "stream",
          "text": [
            "(60000, 28, 28)\n"
          ],
          "name": "stdout"
        }
      ]
    },
    {
      "cell_type": "code",
      "metadata": {
        "id": "1VX4vyDVtgvY",
        "colab_type": "code",
        "colab": {}
      },
      "source": [
        "# scale 변환을 해 줘야 함\n",
        "X_train = X_train.astype('float64')\n",
        "X_train = X_train / 255"
      ],
      "execution_count": 0,
      "outputs": []
    },
    {
      "cell_type": "code",
      "metadata": {
        "id": "uVJ4QmUfncUY",
        "colab_type": "code",
        "colab": {}
      },
      "source": [
        "# test set에도 똑같이 적용\n",
        "X_test = X_test.reshape(X_test.shape[0], 784).astype('float64') / 255"
      ],
      "execution_count": 0,
      "outputs": []
    },
    {
      "cell_type": "code",
      "metadata": {
        "id": "87uHipxDsrRM",
        "colab_type": "code",
        "outputId": "7d416071-98c6-44c1-cc7b-027dd1c3efb0",
        "colab": {
          "base_uri": "https://localhost:8080/",
          "height": 35
        }
      },
      "source": [
        "# class data에 one-hot encoding 적용하기\n",
        "from keras.utils import np_utils\n",
        "Y_train = np_utils.to_categorical(Y_class_train, 10)\n",
        "Y_test = np_utils.to_categorical(Y_class_test, 10)\n",
        "print(Y_train[0])"
      ],
      "execution_count": 0,
      "outputs": [
        {
          "output_type": "stream",
          "text": [
            "[0. 0. 0. 0. 0. 1. 0. 0. 0. 0.]\n"
          ],
          "name": "stdout"
        }
      ]
    },
    {
      "cell_type": "code",
      "metadata": {
        "id": "chTgKBhfwF1k",
        "colab_type": "code",
        "outputId": "ba407b5f-c0a8-47dd-8e41-38e18ca2f93b",
        "colab": {
          "base_uri": "https://localhost:8080/",
          "height": 1000
        }
      },
      "source": [
        "# 딥러닝 기본 프레임 만들기\n",
        "from keras.models import Sequential\n",
        "from keras.layers import Dense\n",
        "\n",
        "model = Sequential()\n",
        "model.add(Dense(512, input_dim = 784, activation = 'relu'))\n",
        "model.add(Dense(10, activation = 'softmax'))\n",
        "\n",
        "model.compile(loss = 'categorical_crossentropy',\n",
        "              optimizer = 'adam',\n",
        "              metrics = ['acc'])\n",
        "\n",
        "# 모델 저장 및 earlystopping 조건 설정하기\n",
        "import os\n",
        "from keras.callbacks import ModelCheckpoint, EarlyStopping\n",
        "\n",
        "Model_dir = './model/'\n",
        "if not os.path.exists(Model_dir):\n",
        "  os.mkdir(Model_dir)\n",
        "\n",
        "modelpath = './model/{epoch:02d}-{val_loss:.4f}.hdf5'\n",
        "checkpointer = ModelCheckpoint(filepath = modelpath, monitor = 'val_loss', verbose = 1, save_best_only = True)\n",
        "early_stopping_callback = EarlyStopping(monitor = 'val_loss', verbose = 1, patience = 10)\n",
        "\n",
        "history = model.fit(X_train, Y_train, validation_data = (X_test, Y_test), epochs = 30, batch_size = 200, verbose = 0, callbacks = [checkpointer, early_stopping_callback])\n",
        "\n",
        "# test 정확도 출력\n",
        "print(\"\\n Test Accuracy: %.4f\" % (model.evaluate(X_test, Y_test)[1]))"
      ],
      "execution_count": 0,
      "outputs": [
        {
          "output_type": "stream",
          "text": [
            "WARNING:tensorflow:From /usr/local/lib/python3.6/dist-packages/keras/backend/tensorflow_backend.py:66: The name tf.get_default_graph is deprecated. Please use tf.compat.v1.get_default_graph instead.\n",
            "\n",
            "WARNING:tensorflow:From /usr/local/lib/python3.6/dist-packages/keras/backend/tensorflow_backend.py:541: The name tf.placeholder is deprecated. Please use tf.compat.v1.placeholder instead.\n",
            "\n",
            "WARNING:tensorflow:From /usr/local/lib/python3.6/dist-packages/keras/backend/tensorflow_backend.py:4432: The name tf.random_uniform is deprecated. Please use tf.random.uniform instead.\n",
            "\n",
            "WARNING:tensorflow:From /usr/local/lib/python3.6/dist-packages/keras/optimizers.py:793: The name tf.train.Optimizer is deprecated. Please use tf.compat.v1.train.Optimizer instead.\n",
            "\n",
            "WARNING:tensorflow:From /usr/local/lib/python3.6/dist-packages/keras/backend/tensorflow_backend.py:3576: The name tf.log is deprecated. Please use tf.math.log instead.\n",
            "\n",
            "WARNING:tensorflow:From /usr/local/lib/python3.6/dist-packages/tensorflow_core/python/ops/math_grad.py:1424: where (from tensorflow.python.ops.array_ops) is deprecated and will be removed in a future version.\n",
            "Instructions for updating:\n",
            "Use tf.where in 2.0, which has the same broadcast rule as np.where\n",
            "WARNING:tensorflow:From /usr/local/lib/python3.6/dist-packages/keras/backend/tensorflow_backend.py:1033: The name tf.assign_add is deprecated. Please use tf.compat.v1.assign_add instead.\n",
            "\n",
            "WARNING:tensorflow:From /usr/local/lib/python3.6/dist-packages/keras/backend/tensorflow_backend.py:1020: The name tf.assign is deprecated. Please use tf.compat.v1.assign instead.\n",
            "\n",
            "WARNING:tensorflow:From /usr/local/lib/python3.6/dist-packages/keras/backend/tensorflow_backend.py:3005: The name tf.Session is deprecated. Please use tf.compat.v1.Session instead.\n",
            "\n",
            "WARNING:tensorflow:From /usr/local/lib/python3.6/dist-packages/keras/backend/tensorflow_backend.py:190: The name tf.get_default_session is deprecated. Please use tf.compat.v1.get_default_session instead.\n",
            "\n",
            "WARNING:tensorflow:From /usr/local/lib/python3.6/dist-packages/keras/backend/tensorflow_backend.py:197: The name tf.ConfigProto is deprecated. Please use tf.compat.v1.ConfigProto instead.\n",
            "\n",
            "WARNING:tensorflow:From /usr/local/lib/python3.6/dist-packages/keras/backend/tensorflow_backend.py:207: The name tf.global_variables is deprecated. Please use tf.compat.v1.global_variables instead.\n",
            "\n",
            "WARNING:tensorflow:From /usr/local/lib/python3.6/dist-packages/keras/backend/tensorflow_backend.py:216: The name tf.is_variable_initialized is deprecated. Please use tf.compat.v1.is_variable_initialized instead.\n",
            "\n",
            "WARNING:tensorflow:From /usr/local/lib/python3.6/dist-packages/keras/backend/tensorflow_backend.py:223: The name tf.variables_initializer is deprecated. Please use tf.compat.v1.variables_initializer instead.\n",
            "\n",
            "\n",
            "Epoch 00001: val_loss improved from inf to 0.15762, saving model to ./model/01-0.1576.hdf5\n",
            "\n",
            "Epoch 00002: val_loss improved from 0.15762 to 0.11417, saving model to ./model/02-0.1142.hdf5\n",
            "\n",
            "Epoch 00003: val_loss improved from 0.11417 to 0.08552, saving model to ./model/03-0.0855.hdf5\n",
            "\n",
            "Epoch 00004: val_loss improved from 0.08552 to 0.07282, saving model to ./model/04-0.0728.hdf5\n",
            "\n",
            "Epoch 00005: val_loss improved from 0.07282 to 0.06818, saving model to ./model/05-0.0682.hdf5\n",
            "\n",
            "Epoch 00006: val_loss improved from 0.06818 to 0.06566, saving model to ./model/06-0.0657.hdf5\n",
            "\n",
            "Epoch 00007: val_loss improved from 0.06566 to 0.06257, saving model to ./model/07-0.0626.hdf5\n",
            "\n",
            "Epoch 00008: val_loss did not improve from 0.06257\n",
            "\n",
            "Epoch 00009: val_loss improved from 0.06257 to 0.05858, saving model to ./model/09-0.0586.hdf5\n",
            "\n",
            "Epoch 00010: val_loss did not improve from 0.05858\n",
            "\n",
            "Epoch 00011: val_loss did not improve from 0.05858\n",
            "\n",
            "Epoch 00012: val_loss did not improve from 0.05858\n",
            "\n",
            "Epoch 00013: val_loss did not improve from 0.05858\n",
            "\n",
            "Epoch 00014: val_loss did not improve from 0.05858\n",
            "\n",
            "Epoch 00015: val_loss did not improve from 0.05858\n",
            "\n",
            "Epoch 00016: val_loss did not improve from 0.05858\n",
            "\n",
            "Epoch 00017: val_loss did not improve from 0.05858\n",
            "\n",
            "Epoch 00018: val_loss did not improve from 0.05858\n",
            "\n",
            "Epoch 00019: val_loss did not improve from 0.05858\n",
            "Epoch 00019: early stopping\n",
            "10000/10000 [==============================] - 0s 39us/step\n",
            "\n",
            " Test Accuracy: 0.9817\n"
          ],
          "name": "stdout"
        }
      ]
    },
    {
      "cell_type": "code",
      "metadata": {
        "id": "nYGVMwnazBpb",
        "colab_type": "code",
        "outputId": "7ddadad7-049e-4961-8aeb-4fd8bcbaed35",
        "colab": {
          "base_uri": "https://localhost:8080/",
          "height": 279
        }
      },
      "source": [
        "# 실행 결과 그래프로 표현하기\n",
        "import matplotlib.pyplot as plt\n",
        "import numpy as np\n",
        "\n",
        "# 테스트셋 오차\n",
        "y_vloss = history.history['val_loss']\n",
        "\n",
        "# 학습셋 오차\n",
        "y_loss = history.history['loss']\n",
        "\n",
        "# 그래프로 표현\n",
        "x_len = np.arange(len(y_loss))\n",
        "plt.plot(x_len, y_vloss, marker = '.', c = 'red', label = 'Testset_loss')\n",
        "plt.plot(x_len, y_loss, marker = '.', c = 'blue', label = 'Trainset_loss')\n",
        "\n",
        "plt.legend(loc = 'upper right')\n",
        "plt.grid()\n",
        "plt.xlabel('epoch')\n",
        "plt.ylabel('loss')\n",
        "plt.show()"
      ],
      "execution_count": 0,
      "outputs": [
        {
          "output_type": "display_data",
          "data": {
            "image/png": "[encoded data removed]",
            "text/plain": [
              "<Figure size 432x288 with 1 Axes>"
            ]
          },
          "metadata": {
            "tags": []
          }
        }
      ]
    },
    {
      "cell_type": "markdown",
      "metadata": {
        "id": "6UuO7m-602GP",
        "colab_type": "text"
      },
      "source": [
        "#### 컨볼루션 신경망(Convolutional Neural Network, CNN)\n",
        "* 입력된 이미지에서 다시 한번 특징을 추출하기 위해 마스크(= 필터, 윈도, 커널)를 도입하는 기법\n",
        "* 여러개의 마스크를 만들 경우 여러 개의 컨볼루션(합성곱)이 만들어짐.\n",
        "> 컨볼루션 층 추가 함수: Conv2D(32, kernel_size=(3,3), input_shape=(28,28,1), activation='relu')\n",
        ">> * units: 마스크를 몇 개 적용할지 정함\n",
        ">> * kerner_size: 마스크 크기 결정. (행, 열)\n",
        ">> * input_shape: 입력되는 값의 크기. (행, 열, 색상=3/흑백=1)\n",
        ">> * activation: 활성화 함수\n",
        "\n",
        "#### 맥스 풀링\n",
        "* 크고 복잡한 결과를 축소: 풀링(pooling), 서브 샘플링(sub sampling)\n",
        "* 맥스 풀링: 정해진 구역 안에서 가장 큰 값만 다음 층으로 넘기고 나머지는 버림.\n",
        "> MaxPooling2D(pool_size=2)\n",
        ">> * pool_size = 2: 풀링 창의 크기 결정. 2로 정하면 전체 크기가 절반으로 줄어듦.\n",
        "\n",
        "#### 드롭아웃(dropout): 은닉층에 배치된 노드 중 일부를 임의로 꺼줌으로써 학습 데이터에 지나치게 치우쳐 학습되는 과적합 방지."
      ]
    },
    {
      "cell_type": "code",
      "metadata": {
        "id": "yQ82RlCHz81k",
        "colab_type": "code",
        "colab": {}
      },
      "source": [
        "from keras.datasets import mnist\n",
        "from keras.utils import np_utils\n",
        "from keras.models import Sequential\n",
        "from keras.layers import Dense, Dropout, Flatten, Conv2D, MaxPooling2D\n",
        "from keras.callbacks import ModelCheckpoint, EarlyStopping\n",
        "\n",
        "import matplotlib.pyplot as plt\n",
        "import numpy as np\n",
        "import os\n",
        "import tensorflow as tf\n",
        "\n",
        "# seed 값 설정\n",
        "seed = 0\n",
        "np.random.seed(seed)\n",
        "tf.set_random_seed(seed)\n",
        "\n",
        "# 데이터 불러오기\n",
        "(X_train, Y_train), (X_test, Y_test) = mnist.load_data()\n",
        "X_train = X_train.reshape(X_train.shape[0], X_train.shape[1], X_train.shape[2], 1).astype('float32')/255\n",
        "X_test = X_test.reshape(X_test.shape[0], X_test.shape[1], X_test.shape[2], 1).astype('float32')/255\n",
        "Y_train = np_utils.to_categorical(Y_train)\n",
        "Y_test = np_utils.to_categorical(Y_test)"
      ],
      "execution_count": 0,
      "outputs": []
    },
    {
      "cell_type": "code",
      "metadata": {
        "id": "D3o534Xtz67w",
        "colab_type": "code",
        "outputId": "3b846c80-c5e1-49e0-8da6-146260b4a53c",
        "colab": {
          "base_uri": "https://localhost:8080/",
          "height": 1000
        }
      },
      "source": [
        "# 컨볼루션 신경망 설정\n",
        "model = Sequential()\n",
        "model.add(Conv2D(32, kernel_size = (3,3), input_shape = (X_train.shape[1],X_train.shape[2],1), activation = 'relu'))\n",
        "model.add(Conv2D(64, kernel_size = (3,3), activation='relu'))\n",
        "model.add(MaxPooling2D(pool_size=2))\n",
        "model.add(Dropout(0.25))\n",
        "model.add(Flatten())\n",
        "model.add(Dense(128, activation='relu'))\n",
        "model.add(Dropout(0.5))\n",
        "model.add(Dense(10, activation = 'softmax'))\n",
        "\n",
        "model.compile(loss = 'categorical_crossentropy',\n",
        "              optimizer = 'adam',\n",
        "              metrics = ['acc'])\n",
        "\n",
        "# 모델 최적화 설정\n",
        "MODEL_DIR = './model/'\n",
        "if not os.path.exists(MODEL_DIR):\n",
        "  os.mkdir(MODEL_DIR)\n",
        "\n",
        "modelpath = './model/{epoch:02d}-{val_loss:.4f}.hdf5'\n",
        "checkpointer = ModelCheckpoint(filepath=modelpath, monitor='val_loss',verbose=1, save_best_only=True)\n",
        "early_stopping_callback = EarlyStopping(monitor = 'val_loss', patience=10)\n",
        "\n",
        "# 모델 실행\n",
        "history = model.fit(X_train, Y_train, validation_data=(X_test, Y_test), epochs = 30, batch_size=200, verbose=0, callbacks=[checkpointer, early_stopping_callback])\n",
        "\n",
        "# 테스트 정확도 출력\n",
        "print(\"\\n Test Accuracy: %.4f\" % (model.evaluate(X_test, Y_test)[1]))\n",
        "\n",
        "# 테스트셋 오차\n",
        "y_vloss = history.history['val_loss']\n",
        "# 학습셋 오차\n",
        "y_loss = history.history['loss']\n",
        "\n",
        "# 그래프로 표현하기\n",
        "x_len = np.arange(len(y_loss))\n",
        "plt.plot(x_len, y_vloss, marker = '.', c = 'red', label = 'Testset_loss')\n",
        "plt.plot(x_len, y_loss, marker = '.', c = 'blue', label = 'Trainset_loss')\n",
        "plt.grid()\n",
        "plt.legend(loc = 'upper right')\n",
        "plt.xlabel('epoch')\n",
        "plt.ylabel('loss')\n",
        "plt.show()"
      ],
      "execution_count": 0,
      "outputs": [
        {
          "output_type": "stream",
          "text": [
            "WARNING:tensorflow:From /usr/local/lib/python3.6/dist-packages/keras/backend/tensorflow_backend.py:4267: The name tf.nn.max_pool is deprecated. Please use tf.nn.max_pool2d instead.\n",
            "\n",
            "WARNING:tensorflow:From /usr/local/lib/python3.6/dist-packages/keras/backend/tensorflow_backend.py:148: The name tf.placeholder_with_default is deprecated. Please use tf.compat.v1.placeholder_with_default instead.\n",
            "\n",
            "WARNING:tensorflow:From /usr/local/lib/python3.6/dist-packages/keras/backend/tensorflow_backend.py:3733: calling dropout (from tensorflow.python.ops.nn_ops) with keep_prob is deprecated and will be removed in a future version.\n",
            "Instructions for updating:\n",
            "Please use `rate` instead of `keep_prob`. Rate should be set to `rate = 1 - keep_prob`.\n",
            "\n",
            "Epoch 00001: val_loss improved from inf to 0.05987, saving model to ./model/01-0.0599.hdf4\n",
            "\n",
            "Epoch 00002: val_loss improved from 0.05987 to 0.04264, saving model to ./model/02-0.0426.hdf4\n",
            "\n",
            "Epoch 00003: val_loss improved from 0.04264 to 0.03782, saving model to ./model/03-0.0378.hdf4\n",
            "\n",
            "Epoch 00004: val_loss improved from 0.03782 to 0.03213, saving model to ./model/04-0.0321.hdf4\n",
            "\n",
            "Epoch 00005: val_loss improved from 0.03213 to 0.02811, saving model to ./model/05-0.0281.hdf4\n",
            "\n",
            "Epoch 00006: val_loss did not improve from 0.02811\n",
            "\n",
            "Epoch 00007: val_loss did not improve from 0.02811\n",
            "\n",
            "Epoch 00008: val_loss did not improve from 0.02811\n",
            "\n",
            "Epoch 00009: val_loss improved from 0.02811 to 0.02804, saving model to ./model/09-0.0280.hdf4\n",
            "\n",
            "Epoch 00010: val_loss did not improve from 0.02804\n",
            "\n",
            "Epoch 00011: val_loss improved from 0.02804 to 0.02648, saving model to ./model/11-0.0265.hdf4\n",
            "\n",
            "Epoch 00012: val_loss did not improve from 0.02648\n",
            "\n",
            "Epoch 00013: val_loss did not improve from 0.02648\n",
            "\n",
            "Epoch 00014: val_loss improved from 0.02648 to 0.02559, saving model to ./model/14-0.0256.hdf4\n",
            "\n",
            "Epoch 00015: val_loss did not improve from 0.02559\n",
            "\n",
            "Epoch 00016: val_loss did not improve from 0.02559\n",
            "\n",
            "Epoch 00017: val_loss did not improve from 0.02559\n",
            "\n",
            "Epoch 00018: val_loss did not improve from 0.02559\n",
            "\n",
            "Epoch 00019: val_loss did not improve from 0.02559\n",
            "\n",
            "Epoch 00020: val_loss did not improve from 0.02559\n",
            "\n",
            "Epoch 00021: val_loss did not improve from 0.02559\n",
            "\n",
            "Epoch 00022: val_loss improved from 0.02559 to 0.02537, saving model to ./model/22-0.0254.hdf4\n",
            "\n",
            "Epoch 00023: val_loss did not improve from 0.02537\n",
            "\n",
            "Epoch 00024: val_loss did not improve from 0.02537\n",
            "\n",
            "Epoch 00025: val_loss did not improve from 0.02537\n",
            "\n",
            "Epoch 00026: val_loss did not improve from 0.02537\n",
            "\n",
            "Epoch 00027: val_loss did not improve from 0.02537\n",
            "\n",
            "Epoch 00028: val_loss did not improve from 0.02537\n",
            "\n",
            "Epoch 00029: val_loss did not improve from 0.02537\n",
            "\n",
            "Epoch 00030: val_loss did not improve from 0.02537\n",
            "10000/10000 [==============================] - 1s 56us/step\n",
            "\n",
            " Test Accuracy: 0.9928\n"
          ],
          "name": "stdout"
        },
        {
          "output_type": "display_data",
          "data": {
            "image/png": "[encoded data removed]",
            "text/plain": [
              "<Figure size 432x288 with 1 Axes>"
            ]
          },
          "metadata": {
            "tags": []
          }
        }
      ]
    }
  ]
}
