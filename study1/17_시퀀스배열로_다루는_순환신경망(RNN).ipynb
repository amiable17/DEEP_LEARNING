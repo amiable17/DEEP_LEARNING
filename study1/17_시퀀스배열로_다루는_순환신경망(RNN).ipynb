{
  "nbformat": 4,
  "nbformat_minor": 0,
  "metadata": {
    "colab": {
      "name": "17.시퀀스배열로 다루는 순환신경망(RNN).ipynb",
      "provenance": [],
      "collapsed_sections": [],
      "authorship_tag": "ABX9TyMNsGiFyHIQvc8ODe4TWN31",
      "include_colab_link": true
    },
    "kernelspec": {
      "name": "python3",
      "display_name": "Python 3"
    },
    "accelerator": "GPU"
  },
  "cells": [
    {
      "cell_type": "markdown",
      "metadata": {
        "id": "view-in-github",
        "colab_type": "text"
      },
      "source": [
        "<a href=\"https://colab.research.google.com/github/amiable17/Deep_Learning/blob/master/study1/17_%EC%8B%9C%ED%80%80%EC%8A%A4%EB%B0%B0%EC%97%B4%EB%A1%9C_%EB%8B%A4%EB%A3%A8%EB%8A%94_%EC%88%9C%ED%99%98%EC%8B%A0%EA%B2%BD%EB%A7%9D(RNN).ipynb\" target=\"_parent\"><img src=\"https://colab.research.google.com/assets/colab-badge.svg\" alt=\"Open In Colab\"/></a>"
      ]
    },
    {
      "cell_type": "markdown",
      "metadata": {
        "id": "2D8zZw4xrE0I",
        "colab_type": "text"
      },
      "source": [
        "# **모두의 딥러닝**\n",
        "## 다섯째마당-딥러닝의 활용"
      ]
    },
    {
      "cell_type": "markdown",
      "metadata": {
        "id": "ASWH8y8grgjq",
        "colab_type": "text"
      },
      "source": [
        "\n",
        "### 17장 시퀀스 배열로 다루는 순환신경망(RNN)\n",
        "\n",
        "* 순환신경망(Recurrent Neural Network, RNN)\n",
        ">* 여러 개의 데이터가 순서대로 입력되었을 때 앞서 입력받은 데이터를 잠시 기억해 놓는 방법.  \n",
        ">* 기억된 데이터가 얼마나 중요한지를 판단하여 별도의 가중치를 줘서 다음 데이터로 넘어감.\n",
        ">* LSTM(Long Short Term Memory): 반복되기 직전에 다음 층으로 기억된 값을 넘길지 안넘길지를 관리하는 단계를 하나 더 추가. RNN의 기울기 소실 문제를 보완한 방법."
      ]
    },
    {
      "cell_type": "markdown",
      "metadata": {
        "id": "yfqugq4vuT-w",
        "colab_type": "text"
      },
      "source": [
        "* 참고 링크) [RNN과 LSTM](https://ratsgo.github.io/natural%20language%20processing/2017/03/09/rnnlstm/)"
      ]
    },
    {
      "cell_type": "code",
      "metadata": {
        "id": "pM-u5Hc4qXAR",
        "colab_type": "code",
        "outputId": "2963c9a2-98b6-4a2c-96d5-2de15caf3c2c",
        "colab": {
          "base_uri": "https://localhost:8080/",
          "height": 136
        }
      },
      "source": [
        "# LSTM을 이용한 로이터 뉴스 카테고리 분류하기\n",
        "# seed 설정\n",
        "import numpy as np\n",
        "import tensorflow as tf\n",
        "seed = 0\n",
        "np.random.seed(seed)\n",
        "tf.set_random_seed(seed)\n",
        "\n",
        "# 로이터 뉴스 데이터셋 불러오기\n",
        "from keras.datasets import reuters\n",
        "(X_train, Y_train), (X_test, Y_test) = reuters.load_data(num_words = 1000, test_split = 0.2)"
      ],
      "execution_count": 0,
      "outputs": [
        {
          "output_type": "display_data",
          "data": {
            "text/html": [
              "<p style=\"color: red;\">\n",
              "The default version of TensorFlow in Colab will soon switch to TensorFlow 2.x.<br>\n",
              "We recommend you <a href=\"https://www.tensorflow.org/guide/migrate\" target=\"_blank\">upgrade</a> now \n",
              "or ensure your notebook will continue to use TensorFlow 1.x via the <code>%tensorflow_version 1.x</code> magic:\n",
              "<a href=\"https://colab.research.google.com/notebooks/tensorflow_version.ipynb\" target=\"_blank\">more info</a>.</p>\n"
            ],
            "text/plain": [
              "<IPython.core.display.HTML object>"
            ]
          },
          "metadata": {
            "tags": []
          }
        },
        {
          "output_type": "stream",
          "text": [
            "Using TensorFlow backend.\n"
          ],
          "name": "stderr"
        },
        {
          "output_type": "stream",
          "text": [
            "Downloading data from https://s3.amazonaws.com/text-datasets/reuters.npz\n",
            "2113536/2110848 [==============================] - 1s 1us/step\n"
          ],
          "name": "stdout"
        }
      ]
    },
    {
      "cell_type": "code",
      "metadata": {
        "id": "nBQWnL3Ds5U1",
        "colab_type": "code",
        "outputId": "3846c7c5-9b37-43a4-85d8-4d3f11778352",
        "colab": {
          "base_uri": "https://localhost:8080/",
          "height": 109
        }
      },
      "source": [
        "# num_words arg.의 의미: 빈도가 1~1000에 해당하는 단어만 선택해서 불러오는 것!!\n",
        "# 데이터 확인\n",
        "category = np.max(Y_train) + 1   # 0부터 세기 때문에 1을 더해서 출력.\n",
        "print(category, '카테고리')\n",
        "print(len(X_train), '학습용 뉴스 기사')\n",
        "print(len(X_test), '테스트용 뉴스 기사')\n",
        "print(X_train[0])   # 숫자의 의미: 데이터 안에서 해당 단어가 몇 번이나 나타나는지 빈도에 따라 번호를 붙임(tokenizer() 작업을 이미 마친 데이터). 즉, 1 = 첫 번째로 빈도가 높은 단어의 의미."
      ],
      "execution_count": 0,
      "outputs": [
        {
          "output_type": "stream",
          "text": [
            "46 카테고리\n",
            "8982 학습용 뉴스 기사\n",
            "2246 테스트용 뉴스 기사\n",
            "[1, 2, 2, 8, 43, 10, 447, 5, 25, 207, 270, 5, 2, 111, 16, 369, 186, 90, 67, 7, 89, 5, 19, 102, 6, 19, 124, 15, 90, 67, 84, 22, 482, 26, 7, 48, 4, 49, 8, 864, 39, 209, 154, 6, 151, 6, 83, 11, 15, 22, 155, 11, 15, 7, 48, 9, 2, 2, 504, 6, 258, 6, 272, 11, 15, 22, 134, 44, 11, 15, 16, 8, 197, 2, 90, 67, 52, 29, 209, 30, 32, 132, 6, 109, 15, 17, 12]\n"
          ],
          "name": "stdout"
        }
      ]
    },
    {
      "cell_type": "code",
      "metadata": {
        "id": "gj5OhhegtMHa",
        "colab_type": "code",
        "colab": {}
      },
      "source": [
        "# 데이터 전처리\n",
        "# 각 기사의 단어 수가 제각각 다르므로 단어의 숫자를 맞춰야 함. 기사의 단어 수가 maxlen보다 크면 maxlen째 단어만 선택하고 나머지는 버림. 모자랄 경우는 나머지를 0으로 채움\n",
        "from keras.preprocessing import sequence\n",
        "from keras.utils import np_utils\n",
        "\n",
        "x_train = sequence.pad_sequences(X_train, maxlen = 100)\n",
        "x_test = sequence.pad_sequences(X_test, maxlen = 100)\n",
        "\n",
        "y_train = np_utils.to_categorical(Y_train)\n",
        "y_test = np_utils.to_categorical(Y_test)"
      ],
      "execution_count": 0,
      "outputs": []
    },
    {
      "cell_type": "code",
      "metadata": {
        "id": "-iT8GrQUu_W9",
        "colab_type": "code",
        "outputId": "3d8fb9cc-4d70-4e77-a648-56c877636577",
        "colab": {
          "base_uri": "https://localhost:8080/",
          "height": 145
        }
      },
      "source": [
        "# 딥러닝 구조 설정\n",
        "from keras.models import Sequential\n",
        "from keras.layers import Embedding, LSTM, Dense\n",
        "\n",
        "model = Sequential()\n",
        "model.add(Embedding(1000, 100))               # 전처리 과정을 통해 입력된 값을 받아 다음 층이 알아들을 수 있는 형태로 변환하는 역할. Embedding(불러온 단어의 총 개수, 기사당 단어 수)\n",
        "model.add(LSTM(100, activation = 'tanh'))     # RNN에서 기억 값에 대한 가중치를 제어. LSTM(기사당 단어수, 기타 옵션). LSTM의 활성화 함수는 tanh 사용\n",
        "model.add(Dense(46, activation = 'softmax'))"
      ],
      "execution_count": 0,
      "outputs": [
        {
          "output_type": "stream",
          "text": [
            "WARNING:tensorflow:From /usr/local/lib/python3.6/dist-packages/keras/backend/tensorflow_backend.py:66: The name tf.get_default_graph is deprecated. Please use tf.compat.v1.get_default_graph instead.\n",
            "\n",
            "WARNING:tensorflow:From /usr/local/lib/python3.6/dist-packages/keras/backend/tensorflow_backend.py:541: The name tf.placeholder is deprecated. Please use tf.compat.v1.placeholder instead.\n",
            "\n",
            "WARNING:tensorflow:From /usr/local/lib/python3.6/dist-packages/keras/backend/tensorflow_backend.py:4432: The name tf.random_uniform is deprecated. Please use tf.random.uniform instead.\n",
            "\n"
          ],
          "name": "stdout"
        }
      ]
    },
    {
      "cell_type": "code",
      "metadata": {
        "id": "ZiZc1-8iu5bq",
        "colab_type": "code",
        "outputId": "71cce0c9-c564-48ee-fdc3-84efc287e641",
        "colab": {
          "base_uri": "https://localhost:8080/",
          "height": 1000
        }
      },
      "source": [
        "# 모델 컴파일\n",
        "model.compile(loss = 'categorical_crossentropy',\n",
        "              optimizer = 'adam',\n",
        "              metrics = ['acc'])\n",
        "\n",
        "# 모델 실행\n",
        "history = model.fit(x_train, y_train, batch_size=100, epochs=20, validation_data=(x_test, y_test))\n",
        "\n",
        "# 테스트 정확도 출력\n",
        "print(\"\\n Test Accuracy: %.4f\" %(model.evaluate(x_test, y_test)[1]))"
      ],
      "execution_count": 0,
      "outputs": [
        {
          "output_type": "stream",
          "text": [
            "WARNING:tensorflow:From /usr/local/lib/python3.6/dist-packages/keras/optimizers.py:793: The name tf.train.Optimizer is deprecated. Please use tf.compat.v1.train.Optimizer instead.\n",
            "\n",
            "WARNING:tensorflow:From /usr/local/lib/python3.6/dist-packages/keras/backend/tensorflow_backend.py:3576: The name tf.log is deprecated. Please use tf.math.log instead.\n",
            "\n",
            "WARNING:tensorflow:From /usr/local/lib/python3.6/dist-packages/tensorflow_core/python/ops/math_grad.py:1424: where (from tensorflow.python.ops.array_ops) is deprecated and will be removed in a future version.\n",
            "Instructions for updating:\n",
            "Use tf.where in 2.0, which has the same broadcast rule as np.where\n",
            "WARNING:tensorflow:From /usr/local/lib/python3.6/dist-packages/keras/backend/tensorflow_backend.py:1033: The name tf.assign_add is deprecated. Please use tf.compat.v1.assign_add instead.\n",
            "\n",
            "WARNING:tensorflow:From /usr/local/lib/python3.6/dist-packages/keras/backend/tensorflow_backend.py:1020: The name tf.assign is deprecated. Please use tf.compat.v1.assign instead.\n",
            "\n",
            "WARNING:tensorflow:From /usr/local/lib/python3.6/dist-packages/keras/backend/tensorflow_backend.py:3005: The name tf.Session is deprecated. Please use tf.compat.v1.Session instead.\n",
            "\n",
            "Train on 8982 samples, validate on 2246 samples\n",
            "Epoch 1/20\n",
            "WARNING:tensorflow:From /usr/local/lib/python3.6/dist-packages/keras/backend/tensorflow_backend.py:190: The name tf.get_default_session is deprecated. Please use tf.compat.v1.get_default_session instead.\n",
            "\n",
            "WARNING:tensorflow:From /usr/local/lib/python3.6/dist-packages/keras/backend/tensorflow_backend.py:197: The name tf.ConfigProto is deprecated. Please use tf.compat.v1.ConfigProto instead.\n",
            "\n",
            "WARNING:tensorflow:From /usr/local/lib/python3.6/dist-packages/keras/backend/tensorflow_backend.py:207: The name tf.global_variables is deprecated. Please use tf.compat.v1.global_variables instead.\n",
            "\n",
            "WARNING:tensorflow:From /usr/local/lib/python3.6/dist-packages/keras/backend/tensorflow_backend.py:216: The name tf.is_variable_initialized is deprecated. Please use tf.compat.v1.is_variable_initialized instead.\n",
            "\n",
            "WARNING:tensorflow:From /usr/local/lib/python3.6/dist-packages/keras/backend/tensorflow_backend.py:223: The name tf.variables_initializer is deprecated. Please use tf.compat.v1.variables_initializer instead.\n",
            "\n",
            "8982/8982 [==============================] - 25s 3ms/step - loss: 2.6057 - acc: 0.3413 - val_loss: 2.3110 - val_acc: 0.3620\n",
            "Epoch 2/20\n",
            "8982/8982 [==============================] - 16s 2ms/step - loss: 2.0087 - acc: 0.4806 - val_loss: 1.8933 - val_acc: 0.5316\n",
            "Epoch 3/20\n",
            "8982/8982 [==============================] - 16s 2ms/step - loss: 1.8355 - acc: 0.5248 - val_loss: 1.7988 - val_acc: 0.5316\n",
            "Epoch 4/20\n",
            "8982/8982 [==============================] - 16s 2ms/step - loss: 1.7507 - acc: 0.5459 - val_loss: 1.7397 - val_acc: 0.5530\n",
            "Epoch 5/20\n",
            "8982/8982 [==============================] - 16s 2ms/step - loss: 1.6848 - acc: 0.5648 - val_loss: 1.7011 - val_acc: 0.5606\n",
            "Epoch 6/20\n",
            "8982/8982 [==============================] - 16s 2ms/step - loss: 1.6210 - acc: 0.5770 - val_loss: 1.6848 - val_acc: 0.5637\n",
            "Epoch 7/20\n",
            "8982/8982 [==============================] - 16s 2ms/step - loss: 1.5575 - acc: 0.5961 - val_loss: 1.6036 - val_acc: 0.5966\n",
            "Epoch 8/20\n",
            "8982/8982 [==============================] - 16s 2ms/step - loss: 1.5321 - acc: 0.6079 - val_loss: 1.5807 - val_acc: 0.5993\n",
            "Epoch 9/20\n",
            "8982/8982 [==============================] - 16s 2ms/step - loss: 1.4239 - acc: 0.6308 - val_loss: 1.5527 - val_acc: 0.6060\n",
            "Epoch 10/20\n",
            "8982/8982 [==============================] - 16s 2ms/step - loss: 1.3632 - acc: 0.6481 - val_loss: 1.4660 - val_acc: 0.6305\n",
            "Epoch 11/20\n",
            "8982/8982 [==============================] - 16s 2ms/step - loss: 1.2839 - acc: 0.6695 - val_loss: 1.3949 - val_acc: 0.6527\n",
            "Epoch 12/20\n",
            "8982/8982 [==============================] - 16s 2ms/step - loss: 1.2120 - acc: 0.6902 - val_loss: 1.3641 - val_acc: 0.6523\n",
            "Epoch 13/20\n",
            "8982/8982 [==============================] - 16s 2ms/step - loss: 1.1621 - acc: 0.7033 - val_loss: 1.3535 - val_acc: 0.6598\n",
            "Epoch 14/20\n",
            "8982/8982 [==============================] - 16s 2ms/step - loss: 1.1115 - acc: 0.7162 - val_loss: 1.3057 - val_acc: 0.6687\n",
            "Epoch 15/20\n",
            "8982/8982 [==============================] - 16s 2ms/step - loss: 1.0441 - acc: 0.7311 - val_loss: 1.2903 - val_acc: 0.6852\n",
            "Epoch 16/20\n",
            "8982/8982 [==============================] - 16s 2ms/step - loss: 0.9989 - acc: 0.7440 - val_loss: 1.2876 - val_acc: 0.6745\n",
            "Epoch 17/20\n",
            "8982/8982 [==============================] - 17s 2ms/step - loss: 0.9527 - acc: 0.7561 - val_loss: 1.2669 - val_acc: 0.6825\n",
            "Epoch 18/20\n",
            "8982/8982 [==============================] - 16s 2ms/step - loss: 0.9467 - acc: 0.7593 - val_loss: 1.2657 - val_acc: 0.6901\n",
            "Epoch 19/20\n",
            "8982/8982 [==============================] - 16s 2ms/step - loss: 0.8839 - acc: 0.7761 - val_loss: 1.2567 - val_acc: 0.6915\n",
            "Epoch 20/20\n",
            "8982/8982 [==============================] - 16s 2ms/step - loss: 0.8559 - acc: 0.7813 - val_loss: 1.2266 - val_acc: 0.7057\n",
            "2246/2246 [==============================] - 3s 1ms/step\n",
            "\n",
            " Test Accuracy: 0.7057\n"
          ],
          "name": "stdout"
        }
      ]
    },
    {
      "cell_type": "code",
      "metadata": {
        "id": "md6AR6pMwoD-",
        "colab_type": "code",
        "outputId": "0c0a70b8-d51c-45d7-817d-bb5b4448b92e",
        "colab": {
          "base_uri": "https://localhost:8080/",
          "height": 279
        }
      },
      "source": [
        "# 그래프로 표현하기\n",
        "import matplotlib.pyplot as plt \n",
        "\n",
        "y_vloss = history.history['val_loss']\n",
        "y_loss = history.history['loss']\n",
        "\n",
        "x_len = np.arange(len(y_vloss))\n",
        "plt.plot(x_len, y_vloss, marker = '.', c = 'red', label = 'Testset_loss')\n",
        "plt.plot(x_len, y_loss, marker = '.', c = 'blue', label = 'Trainset_loss')\n",
        "plt.grid()\n",
        "plt.xlabel('epoch')\n",
        "plt.ylabel('loss')\n",
        "plt.legend(loc = 'upper right')\n",
        "plt.show()"
      ],
      "execution_count": 0,
      "outputs": [
        {
          "output_type": "display_data",
          "data": {
            "image/png": "[encoded data removed]",
            "text/plain": [
              "<Figure size 432x288 with 1 Axes>"
            ]
          },
          "metadata": {
            "tags": []
          }
        }
      ]
    },
    {
      "cell_type": "code",
      "metadata": {
        "id": "RNqrr6MCidDD",
        "colab_type": "code",
        "outputId": "fee7b019-9321-485b-d183-b429cc8d99e8",
        "colab": {
          "base_uri": "https://localhost:8080/",
          "height": 53
        }
      },
      "source": [
        "# LSTM과 CNN의 조합을 이용한 영화 리뷰 분류\n",
        "# 인터넷 영화 데이터베이스(Internet Movie Database, IMDB): 영화와 관련된 정보와 출연진 정보, 개봉 정보, 영화 후기, 평점에 이르기까지 매우 폭넓은 데이터가 저장된 데이터.\n",
        "# 해당 영화를 긍정/부정으로 평가했는지도 담겨 있음.\n",
        "import numpy as np\n",
        "import tensorflow as tf\n",
        "\n",
        "# seed설정\n",
        "seed = 0\n",
        "np.random.seed(seed)\n",
        "tf.set_random_seed(seed)\n",
        "\n",
        "# data load\n",
        "from keras.datasets import imdb\n",
        "(X_train, Y_train), (X_test, Y_test) = imdb.load_data(num_words = 5000)\n",
        "\n",
        "# preprocessiong\n",
        "from keras.preprocessing import sequence\n",
        "x_train = sequence.pad_sequences(X_train, maxlen=100)\n",
        "x_test = sequence.pad_sequences(X_test, maxlen=100)"
      ],
      "execution_count": 0,
      "outputs": [
        {
          "output_type": "stream",
          "text": [
            "Downloading data from https://s3.amazonaws.com/text-datasets/imdb.npz\n",
            "17465344/17464789 [==============================] - 2s 0us/step\n"
          ],
          "name": "stdout"
        }
      ]
    },
    {
      "cell_type": "code",
      "metadata": {
        "id": "9965uIEiyxt8",
        "colab_type": "code",
        "outputId": "ec9cc836-1456-428b-dabe-08a647feb2d5",
        "colab": {
          "base_uri": "https://localhost:8080/",
          "height": 469
        }
      },
      "source": [
        "# 모델 설정\n",
        "from keras.models import Sequential\n",
        "from keras.layers import Dense, Embedding, LSTM, Dropout, Conv1D, MaxPooling1Dx, Activation\n",
        "\n",
        "model = Sequential()\n",
        "model.add(Embedding(5000, 100))\n",
        "model.add(Dropout(0.5))\n",
        "model.add(Conv1D(64, 5, padding = 'valid', activation = 'relu', strides =1))\n",
        "model.add(MaxPooling1D(pool_size = 4))\n",
        "model.add(LSTM(55))\n",
        "model.add(Dense(1))\n",
        "model.add(Activation('sigmoid'))\n",
        "odel.summary()"
      ],
      "execution_count": 0,
      "outputs": [
        {
          "output_type": "stream",
          "text": [
            "WARNING:tensorflow:From /usr/local/lib/python3.6/dist-packages/keras/backend/tensorflow_backend.py:4267: The name tf.nn.max_pool is deprecated. Please use tf.nn.max_pool2d instead.\n",
            "\n",
            "Model: \"sequential_3\"\n",
            "_________________________________________________________________\n",
            "Layer (type)                 Output Shape              Param #   \n",
            "=================================================================\n",
            "embedding_3 (Embedding)      (None, None, 100)         500000    \n",
            "_________________________________________________________________\n",
            "dropout_2 (Dropout)          (None, None, 100)         0         \n",
            "_________________________________________________________________\n",
            "conv1d_2 (Conv1D)            (None, None, 64)          32064     \n",
            "_________________________________________________________________\n",
            "max_pooling1d_1 (MaxPooling1 (None, None, 64)          0         \n",
            "_________________________________________________________________\n",
            "lstm_2 (LSTM)                (None, 55)                26400     \n",
            "_________________________________________________________________\n",
            "dense_2 (Dense)              (None, 1)                 56        \n",
            "_________________________________________________________________\n",
            "activation_1 (Activation)    (None, 1)                 0         \n",
            "=================================================================\n",
            "Total params: 558,520\n",
            "Trainable params: 558,520\n",
            "Non-trainable params: 0\n",
            "_________________________________________________________________\n"
          ],
          "name": "stdout"
        }
      ]
    },
    {
      "cell_type": "code",
      "metadata": {
        "id": "yL5B3AARlZzx",
        "colab_type": "code",
        "outputId": "839f7f27-0f74-4f93-a7f2-b8f764ce2ac0",
        "colab": {
          "base_uri": "https://localhost:8080/",
          "height": 289
        }
      },
      "source": [
        "# 모델 컴파일\n",
        "model.compile(loss = 'binary_crossentropy',\n",
        "              optimizer = 'adam',\n",
        "              metrics = ['acc'])\n",
        "\n",
        "# 모델 실행\n",
        "history = model.fit(x_train, Y_train, batch_size = 100, epochs = 5, validation_data=(x_test, Y_test))\n",
        "\n",
        "# 테스트 정확도 출력\n",
        "print(\"\\n Test Accuracy: %.4f\" % (model.evaluate(x_test, Y_test)[1]))"
      ],
      "execution_count": 0,
      "outputs": [
        {
          "output_type": "stream",
          "text": [
            "Train on 25000 samples, validate on 25000 samples\n",
            "Epoch 1/5\n",
            "25000/25000 [==============================] - 22s 892us/step - loss: 0.4585 - acc: 0.7646 - val_loss: 0.3349 - val_acc: 0.8544\n",
            "Epoch 2/5\n",
            "25000/25000 [==============================] - 15s 590us/step - loss: 0.2918 - acc: 0.8794 - val_loss: 0.3251 - val_acc: 0.8592\n",
            "Epoch 3/5\n",
            "25000/25000 [==============================] - 15s 588us/step - loss: 0.2486 - acc: 0.8988 - val_loss: 0.3306 - val_acc: 0.8566\n",
            "Epoch 4/5\n",
            "25000/25000 [==============================] - 16s 630us/step - loss: 0.2130 - acc: 0.9153 - val_loss: 0.3489 - val_acc: 0.8516\n",
            "Epoch 5/5\n",
            "25000/25000 [==============================] - 15s 585us/step - loss: 0.1776 - acc: 0.9325 - val_loss: 0.3493 - val_acc: 0.8532\n",
            "25000/25000 [==============================] - 8s 312us/step\n",
            "\n",
            " Test Accuracy: 0.8532\n"
          ],
          "name": "stdout"
        }
      ]
    },
    {
      "cell_type": "code",
      "metadata": {
        "id": "59f5otFenFmx",
        "colab_type": "code",
        "outputId": "245f273e-ee37-44be-c2e6-fe036ee82323",
        "colab": {
          "base_uri": "https://localhost:8080/",
          "height": 279
        }
      },
      "source": [
        "# 그래프로 나타내기\n",
        "import matplotlib.pyplot as plt\n",
        "\n",
        "y_vloss = history.history['val_loss']\n",
        "y_loss = history.history['loss']\n",
        "x_len = np.arange(len(y_vloss))\n",
        "\n",
        "plt.plot(x_len, y_vloss, marker = '.', c = 'red', label = 'Testset_loss')\n",
        "plt.plot(x_len, y_loss, marker = '.', c = 'blue', label = 'Trainset_loss')\n",
        "plt.legend(loc = 'upper right')\n",
        "plt.grid()\n",
        "plt.xlabel('epoch')\n",
        "plt.ylabel('loss')\n",
        "plt.show()"
      ],
      "execution_count": 0,
      "outputs": [
        {
          "output_type": "display_data",
          "data": {
            "image/png": "[encoded data removed]",
            "text/plain": [
              "<Figure size 432x288 with 1 Axes>"
            ]
          },
          "metadata": {
            "tags": []
          }
        }
      ]
    }
  ]
}