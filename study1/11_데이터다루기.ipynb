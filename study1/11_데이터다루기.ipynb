{
  "nbformat": 4,
  "nbformat_minor": 0,
  "metadata": {
    "colab": {
      "name": "11.데이터다루기.ipynb",
      "provenance": [],
      "collapsed_sections": []
    },
    "kernelspec": {
      "name": "python3",
      "display_name": "Python 3"
    }
  },
  "cells": [
    {
      "cell_type": "markdown",
      "metadata": {
        "id": "3H6dNjD8QIRo",
        "colab_type": "text"
      },
      "source": [
        "# **모두의 딥러닝**\n",
        "## 넷째마당-딥러닝 기본기 다지기"
      ]
    },
    {
      "cell_type": "markdown",
      "metadata": {
        "id": "UDvCacUgQeM-",
        "colab_type": "text"
      },
      "source": [
        " ### 11장 데이터 다루기\n",
        ">   피마 인디언 당뇨병 예측하기  \n",
        " pandas와 matplotlib 라이브러리 사용해서 데이터 확인하기"
      ]
    },
    {
      "cell_type": "code",
      "metadata": {
        "id": "gH-VE2P2dt7c",
        "colab_type": "code",
        "colab": {}
      },
      "source": [
        "# Library\n",
        "from google.colab import files\n",
        "import pandas as pd\n",
        "import io"
      ],
      "execution_count": 0,
      "outputs": []
    },
    {
      "cell_type": "code",
      "metadata": {
        "id": "cM-Pcqg2htFk",
        "colab_type": "code",
        "outputId": "74a00cbb-ddf0-4adc-d97b-1ab5cbdf251d",
        "colab": {
          "resources": {
            "http://localhost:8080/nbextensions/google.colab/files.js": {
              "data": "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",
              "ok": true,
              "headers": [
                [
                  "content-type",
                  "application/javascript"
                ]
              ],
              "status": 200,
              "status_text": ""
            }
          },
          "base_uri": "https://localhost:8080/",
          "height": 96
        }
      },
      "source": [
        "# data upload\n",
        "uploaded = files.upload()\n",
        "dataset = pd.read_csv(io.StringIO(uploaded['pima-indians-diabetes.csv'].decode('utf-8')), \n",
        "                      names = ['pregnant','plasma','pressure','thickness','insulin','BMI','pedigree','age','class'])    # names: header가 없는 데이터에서 각 속성별 키워드를 지정해 줌.\n",
        "print(dataset.shape)"
      ],
      "execution_count": 0,
      "outputs": [
        {
          "output_type": "display_data",
          "data": {
            "text/html": [
              "\n",
              "     <input type=\"file\" id=\"files-bab4d186-0ebb-438e-a913-0633e5b47da8\" name=\"files[]\" multiple disabled />\n",
              "     <output id=\"result-bab4d186-0ebb-438e-a913-0633e5b47da8\">\n",
              "      Upload widget is only available when the cell has been executed in the\n",
              "      current browser session. Please rerun this cell to enable.\n",
              "      </output>\n",
              "      <script src=\"/nbextensions/google.colab/files.js\"></script> "
            ],
            "text/plain": [
              "<IPython.core.display.HTML object>"
            ]
          },
          "metadata": {
            "tags": []
          }
        },
        {
          "output_type": "stream",
          "text": [
            "Saving pima-indians-diabetes.csv to pima-indians-diabetes (3).csv\n",
            "(768, 9)\n"
          ],
          "name": "stdout"
        }
      ]
    },
    {
      "cell_type": "code",
      "metadata": {
        "id": "aSC4Fn6uuFfL",
        "colab_type": "code",
        "outputId": "bbe2322e-146f-4376-f971-6a5dee60429e",
        "colab": {
          "base_uri": "https://localhost:8080/",
          "height": 647
        }
      },
      "source": [
        "# 데이터 확인하기\n",
        "print(\"dataset: \\n\",dataset.head(5))\n",
        "print(\"dataset info: \\n\",dataset.info())  \n",
        "print(\"dataset info2: \\n\",dataset.describe()) "
      ],
      "execution_count": 0,
      "outputs": [
        {
          "output_type": "stream",
          "text": [
            "dataset: \n",
            "    pregnant  plasma  pressure  thickness  insulin   BMI  pedigree  age  class\n",
            "0         6     148        72         35        0  33.6     0.627   50      1\n",
            "1         1      85        66         29        0  26.6     0.351   31      0\n",
            "2         8     183        64          0        0  23.3     0.672   32      1\n",
            "3         1      89        66         23       94  28.1     0.167   21      0\n",
            "4         0     137        40         35      168  43.1     2.288   33      1\n",
            "<class 'pandas.core.frame.DataFrame'>\n",
            "RangeIndex: 768 entries, 0 to 767\n",
            "Data columns (total 9 columns):\n",
            "pregnant     768 non-null int64\n",
            "plasma       768 non-null int64\n",
            "pressure     768 non-null int64\n",
            "thickness    768 non-null int64\n",
            "insulin      768 non-null int64\n",
            "BMI          768 non-null float64\n",
            "pedigree     768 non-null float64\n",
            "age          768 non-null int64\n",
            "class        768 non-null int64\n",
            "dtypes: float64(2), int64(7)\n",
            "memory usage: 54.1 KB\n",
            "dataset info: \n",
            " None\n",
            "dataset info2: \n",
            "          pregnant      plasma    pressure  ...    pedigree         age       class\n",
            "count  768.000000  768.000000  768.000000  ...  768.000000  768.000000  768.000000\n",
            "mean     3.845052  120.894531   69.105469  ...    0.471876   33.240885    0.348958\n",
            "std      3.369578   31.972618   19.355807  ...    0.331329   11.760232    0.476951\n",
            "min      0.000000    0.000000    0.000000  ...    0.078000   21.000000    0.000000\n",
            "25%      1.000000   99.000000   62.000000  ...    0.243750   24.000000    0.000000\n",
            "50%      3.000000  117.000000   72.000000  ...    0.372500   29.000000    0.000000\n",
            "75%      6.000000  140.250000   80.000000  ...    0.626250   41.000000    1.000000\n",
            "max     17.000000  199.000000  122.000000  ...    2.420000   81.000000    1.000000\n",
            "\n",
            "[8 rows x 9 columns]\n"
          ],
          "name": "stdout"
        }
      ]
    },
    {
      "cell_type": "code",
      "metadata": {
        "id": "pkzx0otmulgK",
        "colab_type": "code",
        "outputId": "b8691f66-fe19-46fa-9dff-4b6dc6a4832c",
        "colab": {
          "base_uri": "https://localhost:8080/",
          "height": 341
        }
      },
      "source": [
        "# 데이터 가공하기: 목적에 맞게 데이터를 만들어줌\n",
        "# 임신 횟수당 당뇨병 발병 확률\n",
        "print(dataset[['pregnant','class']].groupby(['pregnant'], as_index = False).mean().sort_values(by = 'pregnant', ascending = True)) \n",
        "# groupby: pregnant 기준으로 groupping\n",
        "# as_index=False: 새로운 index 만들어줌\n",
        "# sort_values: pregnant 속성을 오름차순으로 정렬 "
      ],
      "execution_count": 0,
      "outputs": [
        {
          "output_type": "stream",
          "text": [
            "    pregnant     class\n",
            "0          0  0.342342\n",
            "1          1  0.214815\n",
            "2          2  0.184466\n",
            "3          3  0.360000\n",
            "4          4  0.338235\n",
            "5          5  0.368421\n",
            "6          6  0.320000\n",
            "7          7  0.555556\n",
            "8          8  0.578947\n",
            "9          9  0.642857\n",
            "10        10  0.416667\n",
            "11        11  0.636364\n",
            "12        12  0.444444\n",
            "13        13  0.500000\n",
            "14        14  1.000000\n",
            "15        15  1.000000\n",
            "16        17  1.000000\n"
          ],
          "name": "stdout"
        }
      ]
    },
    {
      "cell_type": "code",
      "metadata": {
        "id": "F-MjLJIpuli_",
        "colab_type": "code",
        "outputId": "29dac892-e350-473c-d9e9-3a81cc8690d1",
        "colab": {
          "base_uri": "https://localhost:8080/",
          "height": 700
        }
      },
      "source": [
        "# matplotlib 이용해 그래프 그리기\n",
        "import matplotlib.pyplot as plt\n",
        "import seaborn as sns\n",
        "\n",
        "plt.figure(figsize = (12,12))   # 그래프 크기 결정\n",
        "# heatmap 그래프: 두 항목씩 짝지어 정보간의 상관관계를 볼 수 있음\n",
        "sns.heatmap(dataset.corr(), linewidths = 0.1, vmax = 0.5, cmap = plt.cm.gist_heat, linecolor = 'white', annot = True)\n",
        "plt.show()"
      ],
      "execution_count": 0,
      "outputs": [
        {
          "output_type": "display_data",
          "data": {
            "image/png": "[encoded data removed]",
            "text/plain": [
              "<Figure size 864x864 with 2 Axes>"
            ]
          },
          "metadata": {
            "tags": []
          }
        }
      ]
    },
    {
      "cell_type": "markdown",
      "metadata": {
        "id": "V3IXHlCAmBrx",
        "colab_type": "text"
      },
      "source": [
        "plasma(공복 혈당 농도)가 class와 가장 높은 상관관계를 갖음."
      ]
    },
    {
      "cell_type": "code",
      "metadata": {
        "id": "Z4e8DUnYuloC",
        "colab_type": "code",
        "outputId": "e8472a98-cc16-4d8e-d596-cf5561a5bbbe",
        "colab": {
          "base_uri": "https://localhost:8080/",
          "height": 225
        }
      },
      "source": [
        "# 위에서 확인한 plasma와 class의 관계 재확인\n",
        "grid = sns.FacetGrid(dataset, col = 'class')\n",
        "grid.map(plt.hist, 'plasma', bins = 10)\n",
        "plt.show()"
      ],
      "execution_count": 0,
      "outputs": [
        {
          "output_type": "display_data",
          "data": {
            "image/png": "[encoded data removed]",
            "text/plain": [
              "<Figure size 432x216 with 2 Axes>"
            ]
          },
          "metadata": {
            "tags": []
          }
        }
      ]
    },
    {
      "cell_type": "markdown",
      "metadata": {
        "id": "hy9pJVWKmepu",
        "colab_type": "text"
      },
      "source": [
        "당뇨병 환자(class=1)의 경우 plasma 항목의 수치가 150 이상인 경우가 많음."
      ]
    },
    {
      "cell_type": "markdown",
      "metadata": {
        "id": "LyrlfyXTmm6J",
        "colab_type": "text"
      },
      "source": [
        "#### **피마 인디언의 당뇨병 예측 실행**\n"
      ]
    },
    {
      "cell_type": "code",
      "metadata": {
        "id": "rq7x62TDulrX",
        "colab_type": "code",
        "outputId": "0173cf45-0a00-4cd2-e0d4-282f25517c42",
        "colab": {
          "base_uri": "https://localhost:8080/",
          "height": 82
        }
      },
      "source": [
        "from keras.models import Sequential\n",
        "from keras.layers import Dense\n",
        "import numpy as np\n",
        "import tensorflow as tf"
      ],
      "execution_count": 0,
      "outputs": [
        {
          "output_type": "stream",
          "text": [
            "Using TensorFlow backend.\n"
          ],
          "name": "stderr"
        },
        {
          "output_type": "display_data",
          "data": {
            "text/html": [
              "<p style=\"color: red;\">\n",
              "The default version of TensorFlow in Colab will soon switch to TensorFlow 2.x.<br>\n",
              "We recommend you <a href=\"https://www.tensorflow.org/guide/migrate\" target=\"_blank\">upgrade</a> now \n",
              "or ensure your notebook will continue to use TensorFlow 1.x via the <code>%tensorflow_version 1.x</code> magic:\n",
              "<a href=\"https://colab.research.google.com/notebooks/tensorflow_version.ipynb\" target=\"_blank\">more info</a>.</p>\n"
            ],
            "text/plain": [
              "<IPython.core.display.HTML object>"
            ]
          },
          "metadata": {
            "tags": []
          }
        }
      ]
    },
    {
      "cell_type": "code",
      "metadata": {
        "id": "PdCdlx3yultr",
        "colab_type": "code",
        "colab": {}
      },
      "source": [
        "# seed값 설정\n",
        "seed = 0\n",
        "np.random.seed(seed)\n",
        "tf.set_random_seed(seed)"
      ],
      "execution_count": 0,
      "outputs": []
    },
    {
      "cell_type": "code",
      "metadata": {
        "id": "yhkQImV-ulwN",
        "colab_type": "code",
        "colab": {}
      },
      "source": [
        "# 데이터 로드\n",
        "df = dataset.values\n",
        "X = df[:, 0:8]\n",
        "Y = df[:,8]"
      ],
      "execution_count": 0,
      "outputs": []
    },
    {
      "cell_type": "code",
      "metadata": {
        "id": "0hcvvbiawCit",
        "colab_type": "code",
        "outputId": "09d00244-198b-4679-c504-c78f71ce5240",
        "colab": {
          "base_uri": "https://localhost:8080/",
          "height": 1000
        }
      },
      "source": [
        "# 모델 설정\n",
        "model = Sequential()\n",
        "model.add(Dense(12, input_dim = 8, activation = \"relu\"))\n",
        "model.add(Dense(8, activation = \"relu\"))\n",
        "model.add(Dense(1, activation = \"sigmoid\"))\n",
        "\n",
        "# 모델 컴파일\n",
        "model.compile(loss = 'binary_crossentropy', \n",
        "              optimizer = 'adam', \n",
        "              metrics = ['accuracy'])\n",
        "# 모델 실행\n",
        "model.fit(X, Y, epochs = 200, batch_size = 10)\n",
        "\n",
        "# 결과 출력\n",
        "print(\"\\n Accuracy: %.4f\" %(model.evaluate(X,Y)[1]))"
      ],
      "execution_count": 0,
      "outputs": [
        {
          "output_type": "stream",
          "text": [
            "WARNING:tensorflow:From /usr/local/lib/python3.6/dist-packages/keras/backend/tensorflow_backend.py:66: The name tf.get_default_graph is deprecated. Please use tf.compat.v1.get_default_graph instead.\n",
            "\n",
            "WARNING:tensorflow:From /usr/local/lib/python3.6/dist-packages/keras/backend/tensorflow_backend.py:541: The name tf.placeholder is deprecated. Please use tf.compat.v1.placeholder instead.\n",
            "\n",
            "WARNING:tensorflow:From /usr/local/lib/python3.6/dist-packages/keras/backend/tensorflow_backend.py:4432: The name tf.random_uniform is deprecated. Please use tf.random.uniform instead.\n",
            "\n",
            "WARNING:tensorflow:From /usr/local/lib/python3.6/dist-packages/keras/optimizers.py:793: The name tf.train.Optimizer is deprecated. Please use tf.compat.v1.train.Optimizer instead.\n",
            "\n",
            "WARNING:tensorflow:From /usr/local/lib/python3.6/dist-packages/keras/backend/tensorflow_backend.py:3657: The name tf.log is deprecated. Please use tf.math.log instead.\n",
            "\n",
            "WARNING:tensorflow:From /usr/local/lib/python3.6/dist-packages/tensorflow_core/python/ops/nn_impl.py:183: where (from tensorflow.python.ops.array_ops) is deprecated and will be removed in a future version.\n",
            "Instructions for updating:\n",
            "Use tf.where in 2.0, which has the same broadcast rule as np.where\n",
            "WARNING:tensorflow:From /usr/local/lib/python3.6/dist-packages/keras/backend/tensorflow_backend.py:1033: The name tf.assign_add is deprecated. Please use tf.compat.v1.assign_add instead.\n",
            "\n",
            "WARNING:tensorflow:From /usr/local/lib/python3.6/dist-packages/keras/backend/tensorflow_backend.py:1020: The name tf.assign is deprecated. Please use tf.compat.v1.assign instead.\n",
            "\n",
            "WARNING:tensorflow:From /usr/local/lib/python3.6/dist-packages/keras/backend/tensorflow_backend.py:3005: The name tf.Session is deprecated. Please use tf.compat.v1.Session instead.\n",
            "\n",
            "Epoch 1/200\n",
            "WARNING:tensorflow:From /usr/local/lib/python3.6/dist-packages/keras/backend/tensorflow_backend.py:190: The name tf.get_default_session is deprecated. Please use tf.compat.v1.get_default_session instead.\n",
            "\n",
            "WARNING:tensorflow:From /usr/local/lib/python3.6/dist-packages/keras/backend/tensorflow_backend.py:197: The name tf.ConfigProto is deprecated. Please use tf.compat.v1.ConfigProto instead.\n",
            "\n",
            "WARNING:tensorflow:From /usr/local/lib/python3.6/dist-packages/keras/backend/tensorflow_backend.py:207: The name tf.global_variables is deprecated. Please use tf.compat.v1.global_variables instead.\n",
            "\n",
            "WARNING:tensorflow:From /usr/local/lib/python3.6/dist-packages/keras/backend/tensorflow_backend.py:216: The name tf.is_variable_initialized is deprecated. Please use tf.compat.v1.is_variable_initialized instead.\n",
            "\n",
            "WARNING:tensorflow:From /usr/local/lib/python3.6/dist-packages/keras/backend/tensorflow_backend.py:223: The name tf.variables_initializer is deprecated. Please use tf.compat.v1.variables_initializer instead.\n",
            "\n",
            "768/768 [==============================] - 1s 1ms/step - loss: 2.4472 - acc: 0.5156\n",
            "Epoch 2/200\n",
            "768/768 [==============================] - 0s 126us/step - loss: 0.9139 - acc: 0.6380\n",
            "Epoch 3/200\n",
            "768/768 [==============================] - 0s 148us/step - loss: 0.7511 - acc: 0.6302\n",
            "Epoch 4/200\n",
            "768/768 [==============================] - 0s 145us/step - loss: 0.7184 - acc: 0.6224\n",
            "Epoch 5/200\n",
            "768/768 [==============================] - 0s 122us/step - loss: 0.6775 - acc: 0.6289\n",
            "Epoch 6/200\n",
            "768/768 [==============================] - 0s 130us/step - loss: 0.6509 - acc: 0.6276\n",
            "Epoch 7/200\n",
            "768/768 [==============================] - 0s 125us/step - loss: 0.6387 - acc: 0.6497\n",
            "Epoch 8/200\n",
            "768/768 [==============================] - 0s 123us/step - loss: 0.6403 - acc: 0.6211\n",
            "Epoch 9/200\n",
            "768/768 [==============================] - 0s 144us/step - loss: 0.6314 - acc: 0.6484\n",
            "Epoch 10/200\n",
            "768/768 [==============================] - 0s 118us/step - loss: 0.6237 - acc: 0.6380\n",
            "Epoch 11/200\n",
            "768/768 [==============================] - 0s 138us/step - loss: 0.6276 - acc: 0.6497\n",
            "Epoch 12/200\n",
            "768/768 [==============================] - 0s 126us/step - loss: 0.6151 - acc: 0.6471\n",
            "Epoch 13/200\n",
            "768/768 [==============================] - 0s 126us/step - loss: 0.6100 - acc: 0.6523\n",
            "Epoch 14/200\n",
            "768/768 [==============================] - 0s 143us/step - loss: 0.6167 - acc: 0.6510\n",
            "Epoch 15/200\n",
            "768/768 [==============================] - 0s 126us/step - loss: 0.6087 - acc: 0.6706\n",
            "Epoch 16/200\n",
            "768/768 [==============================] - 0s 117us/step - loss: 0.6073 - acc: 0.6549\n",
            "Epoch 17/200\n",
            "768/768 [==============================] - 0s 132us/step - loss: 0.6011 - acc: 0.6680\n",
            "Epoch 18/200\n",
            "768/768 [==============================] - 0s 126us/step - loss: 0.5913 - acc: 0.6641\n",
            "Epoch 19/200\n",
            "768/768 [==============================] - 0s 126us/step - loss: 0.5952 - acc: 0.6810\n",
            "Epoch 20/200\n",
            "768/768 [==============================] - 0s 131us/step - loss: 0.5944 - acc: 0.6797\n",
            "Epoch 21/200\n",
            "768/768 [==============================] - 0s 133us/step - loss: 0.5918 - acc: 0.6836\n",
            "Epoch 22/200\n",
            "768/768 [==============================] - 0s 123us/step - loss: 0.6198 - acc: 0.6615\n",
            "Epoch 23/200\n",
            "768/768 [==============================] - 0s 134us/step - loss: 0.5795 - acc: 0.6849\n",
            "Epoch 24/200\n",
            "768/768 [==============================] - 0s 127us/step - loss: 0.6046 - acc: 0.6563\n",
            "Epoch 25/200\n",
            "768/768 [==============================] - 0s 122us/step - loss: 0.5893 - acc: 0.6810\n",
            "Epoch 26/200\n",
            "768/768 [==============================] - 0s 126us/step - loss: 0.5837 - acc: 0.6836\n",
            "Epoch 27/200\n",
            "768/768 [==============================] - 0s 126us/step - loss: 0.5712 - acc: 0.6953\n",
            "Epoch 28/200\n",
            "768/768 [==============================] - 0s 128us/step - loss: 0.5812 - acc: 0.6836\n",
            "Epoch 29/200\n",
            "768/768 [==============================] - 0s 127us/step - loss: 0.5589 - acc: 0.7005\n",
            "Epoch 30/200\n",
            "768/768 [==============================] - 0s 120us/step - loss: 0.5655 - acc: 0.6992\n",
            "Epoch 31/200\n",
            "768/768 [==============================] - 0s 127us/step - loss: 0.5519 - acc: 0.7279\n",
            "Epoch 32/200\n",
            "768/768 [==============================] - 0s 134us/step - loss: 0.5701 - acc: 0.7187\n",
            "Epoch 33/200\n",
            "768/768 [==============================] - 0s 125us/step - loss: 0.5793 - acc: 0.6966\n",
            "Epoch 34/200\n",
            "768/768 [==============================] - 0s 151us/step - loss: 0.5589 - acc: 0.7109\n",
            "Epoch 35/200\n",
            "768/768 [==============================] - 0s 123us/step - loss: 0.5574 - acc: 0.7083\n",
            "Epoch 36/200\n",
            "768/768 [==============================] - 0s 123us/step - loss: 0.5575 - acc: 0.7266\n",
            "Epoch 37/200\n",
            "768/768 [==============================] - 0s 122us/step - loss: 0.5587 - acc: 0.7201\n",
            "Epoch 38/200\n",
            "768/768 [==============================] - 0s 163us/step - loss: 0.5706 - acc: 0.7161\n",
            "Epoch 39/200\n",
            "768/768 [==============================] - 0s 149us/step - loss: 0.5480 - acc: 0.7174\n",
            "Epoch 40/200\n",
            "768/768 [==============================] - 0s 149us/step - loss: 0.5757 - acc: 0.7135\n",
            "Epoch 41/200\n",
            "768/768 [==============================] - 0s 146us/step - loss: 0.5531 - acc: 0.6992\n",
            "Epoch 42/200\n",
            "768/768 [==============================] - 0s 150us/step - loss: 0.5449 - acc: 0.7266\n",
            "Epoch 43/200\n",
            "768/768 [==============================] - 0s 131us/step - loss: 0.5369 - acc: 0.7253\n",
            "Epoch 44/200\n",
            "768/768 [==============================] - 0s 126us/step - loss: 0.5509 - acc: 0.7227\n",
            "Epoch 45/200\n",
            "768/768 [==============================] - 0s 135us/step - loss: 0.5482 - acc: 0.7266\n",
            "Epoch 46/200\n",
            "768/768 [==============================] - 0s 123us/step - loss: 0.5389 - acc: 0.7318\n",
            "Epoch 47/200\n",
            "768/768 [==============================] - 0s 132us/step - loss: 0.5706 - acc: 0.7044\n",
            "Epoch 48/200\n",
            "768/768 [==============================] - 0s 131us/step - loss: 0.5483 - acc: 0.7109\n",
            "Epoch 49/200\n",
            "768/768 [==============================] - 0s 124us/step - loss: 0.5411 - acc: 0.7318\n",
            "Epoch 50/200\n",
            "768/768 [==============================] - 0s 128us/step - loss: 0.5365 - acc: 0.7279\n",
            "Epoch 51/200\n",
            "768/768 [==============================] - 0s 132us/step - loss: 0.5367 - acc: 0.7331\n",
            "Epoch 52/200\n",
            "768/768 [==============================] - 0s 132us/step - loss: 0.5289 - acc: 0.7344\n",
            "Epoch 53/200\n",
            "768/768 [==============================] - 0s 129us/step - loss: 0.5335 - acc: 0.7292\n",
            "Epoch 54/200\n",
            "768/768 [==============================] - 0s 128us/step - loss: 0.5309 - acc: 0.7344\n",
            "Epoch 55/200\n",
            "768/768 [==============================] - 0s 126us/step - loss: 0.5343 - acc: 0.7331\n",
            "Epoch 56/200\n",
            "768/768 [==============================] - 0s 125us/step - loss: 0.5338 - acc: 0.7435\n",
            "Epoch 57/200\n",
            "768/768 [==============================] - 0s 123us/step - loss: 0.5329 - acc: 0.7383\n",
            "Epoch 58/200\n",
            "768/768 [==============================] - 0s 117us/step - loss: 0.5244 - acc: 0.7513\n",
            "Epoch 59/200\n",
            "768/768 [==============================] - 0s 125us/step - loss: 0.5397 - acc: 0.7292\n",
            "Epoch 60/200\n",
            "768/768 [==============================] - 0s 125us/step - loss: 0.5519 - acc: 0.7292\n",
            "Epoch 61/200\n",
            "768/768 [==============================] - 0s 129us/step - loss: 0.5366 - acc: 0.7357\n",
            "Epoch 62/200\n",
            "768/768 [==============================] - 0s 121us/step - loss: 0.5282 - acc: 0.7448\n",
            "Epoch 63/200\n",
            "768/768 [==============================] - 0s 119us/step - loss: 0.5281 - acc: 0.7435\n",
            "Epoch 64/200\n",
            "768/768 [==============================] - 0s 125us/step - loss: 0.5284 - acc: 0.7344\n",
            "Epoch 65/200\n",
            "768/768 [==============================] - 0s 127us/step - loss: 0.5280 - acc: 0.7344\n",
            "Epoch 66/200\n",
            "768/768 [==============================] - 0s 129us/step - loss: 0.5297 - acc: 0.7370\n",
            "Epoch 67/200\n",
            "768/768 [==============================] - 0s 127us/step - loss: 0.5210 - acc: 0.7383\n",
            "Epoch 68/200\n",
            "768/768 [==============================] - 0s 131us/step - loss: 0.5234 - acc: 0.7461\n",
            "Epoch 69/200\n",
            "768/768 [==============================] - 0s 121us/step - loss: 0.5243 - acc: 0.7396\n",
            "Epoch 70/200\n",
            "768/768 [==============================] - 0s 123us/step - loss: 0.5190 - acc: 0.7396\n",
            "Epoch 71/200\n",
            "768/768 [==============================] - 0s 132us/step - loss: 0.5367 - acc: 0.7279\n",
            "Epoch 72/200\n",
            "768/768 [==============================] - 0s 124us/step - loss: 0.5193 - acc: 0.7357\n",
            "Epoch 73/200\n",
            "768/768 [==============================] - 0s 127us/step - loss: 0.5263 - acc: 0.7253\n",
            "Epoch 74/200\n",
            "768/768 [==============================] - 0s 122us/step - loss: 0.5230 - acc: 0.7396\n",
            "Epoch 75/200\n",
            "768/768 [==============================] - 0s 126us/step - loss: 0.5186 - acc: 0.7435\n",
            "Epoch 76/200\n",
            "768/768 [==============================] - 0s 129us/step - loss: 0.5201 - acc: 0.7448\n",
            "Epoch 77/200\n",
            "768/768 [==============================] - 0s 129us/step - loss: 0.5156 - acc: 0.7370\n",
            "Epoch 78/200\n",
            "768/768 [==============================] - 0s 124us/step - loss: 0.5124 - acc: 0.7396\n",
            "Epoch 79/200\n",
            "768/768 [==============================] - 0s 123us/step - loss: 0.5181 - acc: 0.7448\n",
            "Epoch 80/200\n",
            "768/768 [==============================] - 0s 120us/step - loss: 0.5115 - acc: 0.7487\n",
            "Epoch 81/200\n",
            "768/768 [==============================] - 0s 129us/step - loss: 0.5133 - acc: 0.7448\n",
            "Epoch 82/200\n",
            "768/768 [==============================] - 0s 120us/step - loss: 0.5056 - acc: 0.7409\n",
            "Epoch 83/200\n",
            "768/768 [==============================] - 0s 123us/step - loss: 0.5263 - acc: 0.7318\n",
            "Epoch 84/200\n",
            "768/768 [==============================] - 0s 130us/step - loss: 0.5061 - acc: 0.7370\n",
            "Epoch 85/200\n",
            "768/768 [==============================] - 0s 128us/step - loss: 0.5054 - acc: 0.7474\n",
            "Epoch 86/200\n",
            "768/768 [==============================] - 0s 119us/step - loss: 0.5099 - acc: 0.7526\n",
            "Epoch 87/200\n",
            "768/768 [==============================] - 0s 132us/step - loss: 0.5105 - acc: 0.7500\n",
            "Epoch 88/200\n",
            "768/768 [==============================] - 0s 127us/step - loss: 0.5098 - acc: 0.7357\n",
            "Epoch 89/200\n",
            "768/768 [==============================] - 0s 122us/step - loss: 0.5050 - acc: 0.7630\n",
            "Epoch 90/200\n",
            "768/768 [==============================] - 0s 127us/step - loss: 0.5015 - acc: 0.7513\n",
            "Epoch 91/200\n",
            "768/768 [==============================] - 0s 126us/step - loss: 0.5018 - acc: 0.7630\n",
            "Epoch 92/200\n",
            "768/768 [==============================] - 0s 119us/step - loss: 0.5057 - acc: 0.7435\n",
            "Epoch 93/200\n",
            "768/768 [==============================] - 0s 131us/step - loss: 0.4991 - acc: 0.7487\n",
            "Epoch 94/200\n",
            "768/768 [==============================] - 0s 129us/step - loss: 0.4984 - acc: 0.7487\n",
            "Epoch 95/200\n",
            "768/768 [==============================] - 0s 129us/step - loss: 0.5005 - acc: 0.7422\n",
            "Epoch 96/200\n",
            "768/768 [==============================] - 0s 132us/step - loss: 0.4995 - acc: 0.7591\n",
            "Epoch 97/200\n",
            "768/768 [==============================] - 0s 122us/step - loss: 0.5012 - acc: 0.7474\n",
            "Epoch 98/200\n",
            "768/768 [==============================] - 0s 130us/step - loss: 0.4982 - acc: 0.7487\n",
            "Epoch 99/200\n",
            "768/768 [==============================] - 0s 120us/step - loss: 0.4950 - acc: 0.7721\n",
            "Epoch 100/200\n",
            "768/768 [==============================] - 0s 119us/step - loss: 0.4952 - acc: 0.7422\n",
            "Epoch 101/200\n",
            "768/768 [==============================] - 0s 122us/step - loss: 0.4981 - acc: 0.7591\n",
            "Epoch 102/200\n",
            "768/768 [==============================] - 0s 124us/step - loss: 0.5039 - acc: 0.7396\n",
            "Epoch 103/200\n",
            "768/768 [==============================] - 0s 126us/step - loss: 0.5005 - acc: 0.7591\n",
            "Epoch 104/200\n",
            "768/768 [==============================] - 0s 125us/step - loss: 0.4884 - acc: 0.7669\n",
            "Epoch 105/200\n",
            "768/768 [==============================] - 0s 124us/step - loss: 0.4930 - acc: 0.7708\n",
            "Epoch 106/200\n",
            "768/768 [==============================] - 0s 127us/step - loss: 0.5028 - acc: 0.7578\n",
            "Epoch 107/200\n",
            "768/768 [==============================] - 0s 127us/step - loss: 0.4931 - acc: 0.7630\n",
            "Epoch 108/200\n",
            "768/768 [==============================] - 0s 124us/step - loss: 0.4948 - acc: 0.7526\n",
            "Epoch 109/200\n",
            "768/768 [==============================] - 0s 134us/step - loss: 0.4867 - acc: 0.7630\n",
            "Epoch 110/200\n",
            "768/768 [==============================] - 0s 120us/step - loss: 0.4924 - acc: 0.7630\n",
            "Epoch 111/200\n",
            "768/768 [==============================] - 0s 128us/step - loss: 0.4958 - acc: 0.7630\n",
            "Epoch 112/200\n",
            "768/768 [==============================] - 0s 133us/step - loss: 0.4846 - acc: 0.7708\n",
            "Epoch 113/200\n",
            "768/768 [==============================] - 0s 125us/step - loss: 0.5019 - acc: 0.7461\n",
            "Epoch 114/200\n",
            "768/768 [==============================] - 0s 129us/step - loss: 0.4906 - acc: 0.7617\n",
            "Epoch 115/200\n",
            "768/768 [==============================] - 0s 138us/step - loss: 0.4862 - acc: 0.7656\n",
            "Epoch 116/200\n",
            "768/768 [==============================] - 0s 128us/step - loss: 0.5098 - acc: 0.7370\n",
            "Epoch 117/200\n",
            "768/768 [==============================] - 0s 143us/step - loss: 0.4842 - acc: 0.7708\n",
            "Epoch 118/200\n",
            "768/768 [==============================] - 0s 127us/step - loss: 0.4959 - acc: 0.7539\n",
            "Epoch 119/200\n",
            "768/768 [==============================] - 0s 123us/step - loss: 0.4826 - acc: 0.7578\n",
            "Epoch 120/200\n",
            "768/768 [==============================] - 0s 118us/step - loss: 0.4902 - acc: 0.7708\n",
            "Epoch 121/200\n",
            "768/768 [==============================] - 0s 120us/step - loss: 0.4884 - acc: 0.7604\n",
            "Epoch 122/200\n",
            "768/768 [==============================] - 0s 150us/step - loss: 0.4827 - acc: 0.7721\n",
            "Epoch 123/200\n",
            "768/768 [==============================] - 0s 160us/step - loss: 0.4801 - acc: 0.7656\n",
            "Epoch 124/200\n",
            "768/768 [==============================] - 0s 145us/step - loss: 0.4920 - acc: 0.7474\n",
            "Epoch 125/200\n",
            "768/768 [==============================] - 0s 134us/step - loss: 0.4835 - acc: 0.7578\n",
            "Epoch 126/200\n",
            "768/768 [==============================] - 0s 123us/step - loss: 0.4833 - acc: 0.7552\n",
            "Epoch 127/200\n",
            "768/768 [==============================] - 0s 134us/step - loss: 0.4910 - acc: 0.7591\n",
            "Epoch 128/200\n",
            "768/768 [==============================] - 0s 127us/step - loss: 0.4857 - acc: 0.7682\n",
            "Epoch 129/200\n",
            "768/768 [==============================] - 0s 168us/step - loss: 0.4832 - acc: 0.7513\n",
            "Epoch 130/200\n",
            "768/768 [==============================] - 0s 123us/step - loss: 0.4844 - acc: 0.7578\n",
            "Epoch 131/200\n",
            "768/768 [==============================] - 0s 121us/step - loss: 0.4821 - acc: 0.7695\n",
            "Epoch 132/200\n",
            "768/768 [==============================] - 0s 122us/step - loss: 0.4771 - acc: 0.7656\n",
            "Epoch 133/200\n",
            "768/768 [==============================] - 0s 119us/step - loss: 0.4787 - acc: 0.7604\n",
            "Epoch 134/200\n",
            "768/768 [==============================] - 0s 128us/step - loss: 0.4726 - acc: 0.7643\n",
            "Epoch 135/200\n",
            "768/768 [==============================] - 0s 123us/step - loss: 0.4845 - acc: 0.7708\n",
            "Epoch 136/200\n",
            "768/768 [==============================] - 0s 116us/step - loss: 0.4752 - acc: 0.7669\n",
            "Epoch 137/200\n",
            "768/768 [==============================] - 0s 124us/step - loss: 0.4789 - acc: 0.7591\n",
            "Epoch 138/200\n",
            "768/768 [==============================] - 0s 118us/step - loss: 0.4838 - acc: 0.7617\n",
            "Epoch 139/200\n",
            "768/768 [==============================] - 0s 133us/step - loss: 0.4853 - acc: 0.7721\n",
            "Epoch 140/200\n",
            "768/768 [==============================] - 0s 128us/step - loss: 0.4853 - acc: 0.7604\n",
            "Epoch 141/200\n",
            "768/768 [==============================] - 0s 120us/step - loss: 0.4692 - acc: 0.7734\n",
            "Epoch 142/200\n",
            "768/768 [==============================] - 0s 126us/step - loss: 0.4797 - acc: 0.7552\n",
            "Epoch 143/200\n",
            "768/768 [==============================] - 0s 124us/step - loss: 0.4772 - acc: 0.7578\n",
            "Epoch 144/200\n",
            "768/768 [==============================] - 0s 127us/step - loss: 0.4715 - acc: 0.7826\n",
            "Epoch 145/200\n",
            "768/768 [==============================] - 0s 120us/step - loss: 0.4762 - acc: 0.7734\n",
            "Epoch 146/200\n",
            "768/768 [==============================] - 0s 123us/step - loss: 0.4759 - acc: 0.7578\n",
            "Epoch 147/200\n",
            "768/768 [==============================] - 0s 128us/step - loss: 0.4738 - acc: 0.7721\n",
            "Epoch 148/200\n",
            "768/768 [==============================] - 0s 121us/step - loss: 0.4977 - acc: 0.7656\n",
            "Epoch 149/200\n",
            "768/768 [==============================] - 0s 119us/step - loss: 0.4734 - acc: 0.7786\n",
            "Epoch 150/200\n",
            "768/768 [==============================] - 0s 124us/step - loss: 0.4729 - acc: 0.7708\n",
            "Epoch 151/200\n",
            "768/768 [==============================] - 0s 121us/step - loss: 0.4795 - acc: 0.7865\n",
            "Epoch 152/200\n",
            "768/768 [==============================] - 0s 129us/step - loss: 0.4773 - acc: 0.7786\n",
            "Epoch 153/200\n",
            "768/768 [==============================] - 0s 124us/step - loss: 0.4745 - acc: 0.7617\n",
            "Epoch 154/200\n",
            "768/768 [==============================] - 0s 122us/step - loss: 0.4680 - acc: 0.7643\n",
            "Epoch 155/200\n",
            "768/768 [==============================] - 0s 126us/step - loss: 0.4707 - acc: 0.7839\n",
            "Epoch 156/200\n",
            "768/768 [==============================] - 0s 121us/step - loss: 0.4729 - acc: 0.7734\n",
            "Epoch 157/200\n",
            "768/768 [==============================] - 0s 125us/step - loss: 0.4758 - acc: 0.7812\n",
            "Epoch 158/200\n",
            "768/768 [==============================] - 0s 129us/step - loss: 0.4698 - acc: 0.7773\n",
            "Epoch 159/200\n",
            "768/768 [==============================] - 0s 128us/step - loss: 0.4669 - acc: 0.7695\n",
            "Epoch 160/200\n",
            "768/768 [==============================] - 0s 123us/step - loss: 0.4711 - acc: 0.7760\n",
            "Epoch 161/200\n",
            "768/768 [==============================] - 0s 118us/step - loss: 0.4698 - acc: 0.7578\n",
            "Epoch 162/200\n",
            "768/768 [==============================] - 0s 121us/step - loss: 0.4691 - acc: 0.7760\n",
            "Epoch 163/200\n",
            "768/768 [==============================] - 0s 133us/step - loss: 0.4656 - acc: 0.7721\n",
            "Epoch 164/200\n",
            "768/768 [==============================] - 0s 118us/step - loss: 0.4681 - acc: 0.7695\n",
            "Epoch 165/200\n",
            "768/768 [==============================] - 0s 128us/step - loss: 0.4737 - acc: 0.7552\n",
            "Epoch 166/200\n",
            "768/768 [==============================] - 0s 128us/step - loss: 0.4662 - acc: 0.7682\n",
            "Epoch 167/200\n",
            "768/768 [==============================] - 0s 117us/step - loss: 0.4735 - acc: 0.7552\n",
            "Epoch 168/200\n",
            "768/768 [==============================] - 0s 121us/step - loss: 0.4614 - acc: 0.7721\n",
            "Epoch 169/200\n",
            "768/768 [==============================] - 0s 121us/step - loss: 0.4783 - acc: 0.7760\n",
            "Epoch 170/200\n",
            "768/768 [==============================] - 0s 121us/step - loss: 0.4661 - acc: 0.7669\n",
            "Epoch 171/200\n",
            "768/768 [==============================] - 0s 120us/step - loss: 0.4672 - acc: 0.7760\n",
            "Epoch 172/200\n",
            "768/768 [==============================] - 0s 121us/step - loss: 0.4658 - acc: 0.7721\n",
            "Epoch 173/200\n",
            "768/768 [==============================] - 0s 127us/step - loss: 0.4708 - acc: 0.7721\n",
            "Epoch 174/200\n",
            "768/768 [==============================] - 0s 123us/step - loss: 0.4650 - acc: 0.7773\n",
            "Epoch 175/200\n",
            "768/768 [==============================] - 0s 126us/step - loss: 0.4669 - acc: 0.7682\n",
            "Epoch 176/200\n",
            "768/768 [==============================] - 0s 147us/step - loss: 0.4649 - acc: 0.7786\n",
            "Epoch 177/200\n",
            "768/768 [==============================] - 0s 124us/step - loss: 0.4592 - acc: 0.7747\n",
            "Epoch 178/200\n",
            "768/768 [==============================] - 0s 122us/step - loss: 0.4699 - acc: 0.7760\n",
            "Epoch 179/200\n",
            "768/768 [==============================] - 0s 124us/step - loss: 0.4633 - acc: 0.7865\n",
            "Epoch 180/200\n",
            "768/768 [==============================] - 0s 120us/step - loss: 0.4572 - acc: 0.7773\n",
            "Epoch 181/200\n",
            "768/768 [==============================] - 0s 127us/step - loss: 0.4700 - acc: 0.7760\n",
            "Epoch 182/200\n",
            "768/768 [==============================] - 0s 125us/step - loss: 0.4605 - acc: 0.7878\n",
            "Epoch 183/200\n",
            "768/768 [==============================] - 0s 134us/step - loss: 0.4613 - acc: 0.7734\n",
            "Epoch 184/200\n",
            "768/768 [==============================] - 0s 124us/step - loss: 0.4629 - acc: 0.7852\n",
            "Epoch 185/200\n",
            "768/768 [==============================] - 0s 128us/step - loss: 0.4575 - acc: 0.7904\n",
            "Epoch 186/200\n",
            "768/768 [==============================] - 0s 129us/step - loss: 0.4695 - acc: 0.7708\n",
            "Epoch 187/200\n",
            "768/768 [==============================] - 0s 124us/step - loss: 0.4691 - acc: 0.7669\n",
            "Epoch 188/200\n",
            "768/768 [==============================] - 0s 123us/step - loss: 0.4674 - acc: 0.7721\n",
            "Epoch 189/200\n",
            "768/768 [==============================] - 0s 118us/step - loss: 0.4635 - acc: 0.7799\n",
            "Epoch 190/200\n",
            "768/768 [==============================] - 0s 123us/step - loss: 0.4625 - acc: 0.7695\n",
            "Epoch 191/200\n",
            "768/768 [==============================] - 0s 122us/step - loss: 0.4515 - acc: 0.7812\n",
            "Epoch 192/200\n",
            "768/768 [==============================] - 0s 120us/step - loss: 0.4539 - acc: 0.7852\n",
            "Epoch 193/200\n",
            "768/768 [==============================] - 0s 120us/step - loss: 0.4527 - acc: 0.7813\n",
            "Epoch 194/200\n",
            "768/768 [==============================] - 0s 124us/step - loss: 0.4618 - acc: 0.7760\n",
            "Epoch 195/200\n",
            "768/768 [==============================] - 0s 120us/step - loss: 0.4647 - acc: 0.7826\n",
            "Epoch 196/200\n",
            "768/768 [==============================] - 0s 126us/step - loss: 0.4590 - acc: 0.7839\n",
            "Epoch 197/200\n",
            "768/768 [==============================] - 0s 120us/step - loss: 0.4597 - acc: 0.7878\n",
            "Epoch 198/200\n",
            "768/768 [==============================] - 0s 121us/step - loss: 0.4634 - acc: 0.7786\n",
            "Epoch 199/200\n",
            "768/768 [==============================] - 0s 127us/step - loss: 0.4682 - acc: 0.7760\n",
            "Epoch 200/200\n",
            "768/768 [==============================] - 0s 132us/step - loss: 0.4621 - acc: 0.7747\n",
            "768/768 [==============================] - 0s 66us/step\n",
            "\n",
            " Accuracy: 0.7917\n"
          ],
          "name": "stdout"
        }
      ]
    }
  ]
}
