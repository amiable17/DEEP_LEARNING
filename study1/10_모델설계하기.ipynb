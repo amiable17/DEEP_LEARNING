{
  "nbformat": 4,
  "nbformat_minor": 0,
  "metadata": {
    "colab": {
      "name": "10.모델설계하기.ipynb",
      "provenance": [],
      "collapsed_sections": [],
      "include_colab_link": true
    },
    "kernelspec": {
      "name": "python3",
      "display_name": "Python 3"
    }
  },
  "cells": [
    {
      "cell_type": "markdown",
      "metadata": {
        "id": "view-in-github",
        "colab_type": "text"
      },
      "source": [
        "<a href=\"https://colab.research.google.com/github/amiable17/Deep_Learning/blob/master/10_%EB%AA%A8%EB%8D%B8%EC%84%A4%EA%B3%84%ED%95%98%EA%B8%B0.ipynb\" target=\"_parent\"><img src=\"https://colab.research.google.com/assets/colab-badge.svg\" alt=\"Open In Colab\"/></a>"
      ]
    },
    {
      "cell_type": "markdown",
      "metadata": {
        "id": "cb5CEB1tfKdx",
        "colab_type": "text"
      },
      "source": [
        "# **모두의 딥러닝**\n",
        "## 넷째마당-딥러닝 기본기 다지기"
      ]
    },
    {
      "cell_type": "markdown",
      "metadata": {
        "id": "6K85X4XOg9eo",
        "colab_type": "text"
      },
      "source": [
        "* 참고 1)  \n",
        "tensorflow 1. version 코드이기 때문에 현재 버전 2.0.0 에서 실행되지 않는 코드 있음  \n",
        "\n",
        ">```\n",
        "import tensorflow as tf  \n",
        "tf.__version__   \n",
        "tf.compat.v1.disable_eager_excute()  \n",
        "sess = tf.compat.v1.Session()\n",
        "```\n",
        "\n"
      ]
    },
    {
      "cell_type": "markdown",
      "metadata": {
        "id": "4M6EdqZ6iLOC",
        "colab_type": "text"
      },
      "source": [
        "* 참고 2)  \n",
        "tf.global_variables_initializer()  \n",
        "tf.Variable : 변수형 텐서. 초기값으로 설정할 값 입력이 필요함\n",
        "```\n",
        "a = tf.Variable(tf.ones(2,3))\n",
        "```\n",
        "\n",
        "***변수형 텐서 생성 시 입력한 초기값은 아직 해당 변수형 텐서의 값으로 할당되기 전 상태.  \n",
        "따라서 초기화 연산자를 통해 초기값이 변수에 할당됨***  \n",
        "\n",
        "> tf.global_variables_initializer()함수를 사용하면 그래프 내의 모든 변수의 초기화 연산 수행이 가능  \n",
        ">tf.constant_initializer(a) 특정 변수를 초기화하는 연산 수행\n"
      ]
    },
    {
      "cell_type": "markdown",
      "metadata": {
        "id": "t2LzXvDm93FW",
        "colab_type": "text"
      },
      "source": [
        "* 참고 3)  \n",
        "Learning Rate: cost 함수에서 변화하는 정도(=기울기의 크기)  \n",
        "__learning rate가 너무 크면__  \n",
        "  결과 : Overshooting  \n",
        "  증상 : `NaN`이 나온다  \n",
        "__learning rate가 너무 작으면__  \n",
        "  결과 : 학습이 더디고, Local Minimum에 걸려서 제대로 된 최소값을 구하지 못하게 됩니다.  \n",
        "  증상 : Cost 변화값이 너무 적게 변화한다."
      ]
    },
    {
      "cell_type": "code",
      "metadata": {
        "id": "JcsRclqPVGDs",
        "colab_type": "code",
        "colab": {}
      },
      "source": [
        ""
      ],
      "execution_count": 0,
      "outputs": []
    },
    {
      "cell_type": "markdown",
      "metadata": {
        "id": "8KfpPNgOf49Q",
        "colab_type": "text"
      },
      "source": [
        "### 10장 모델 설계하기\n",
        ">   폐암 수술 환자의 생존율 예측하기\n",
        "\n",
        "#### **딥러닝의 구조를 짜고 층 설정하기**: 입력층, 은닉층, 출력층  \n"
      ]
    },
    {
      "cell_type": "markdown",
      "metadata": {
        "id": "mJyB3QB3qhTl",
        "colab_type": "text"
      },
      "source": [
        "(https://drive.google.com/uc?export=view&id=1qy5RXN5oJuFt8wHrg7Qf9uEydE8J6gh5)\n",
        "<figure>\n",
        "<center>\n",
        "<img src='https://drive.google.com/open?id=1qy5RXN5oJuFt8wHrg7Qf9uEydE8J6gh5'/>\n",
        "<figcaption>Image Caption</figcaption></center>\n",
        "</figure>\n"
      ]
    },
    {
      "cell_type": "markdown",
      "metadata": {
        "id": "vRAEHhMeboag",
        "colab_type": "text"
      },
      "source": [
        "> 1) Sequential(): 딥러닝의 구조를 한 층 한 층 쉽게 쌓아올리게 함  \n",
        "> Dense(): 각 층이 제각각 어떤 특성을 가질지 옵션 설정.  \n",
        ">> units: 노드의 수.  \n",
        "input_dim: 입력 데이터로부터 몇 개의 값이 들어올지. feature의 수. 첫번째 은닉층에 적어줌으로써 입력층 + 은닉층의 역할.    \n",
        "activation: 다음 층으로 어떻게 값을 넘길지 결정.  \n",
        "\n",
        "> 2) model.compile(): 환경 설정 및 컴파일\n",
        ">> loss: cost function  \n",
        "optimizer: 최적화 방법 지정. 오차를 어떻게 줄여 나갈지 정하는 함수  \n",
        "metrics: 모델 수행 결과를 나타냄.\n",
        "\n",
        "> 3) model.fit(): 모델 실행\n",
        ">> epochs:\n",
        "batch_size: 샘플을 한번에 몇 개씩 처리할지."
      ]
    },
    {
      "cell_type": "markdown",
      "metadata": {
        "id": "4K3WmSaRawNo",
        "colab_type": "text"
      },
      "source": [
        "\n",
        "#### **교차 엔트로피**\n",
        "> 오차 함수 중 하나로 주로 *`분류 문제`*에서 많이 사용.  \n",
        "출력 값에 로그를 취해서, 오차가 커지면 수렴 속도가 빨라지고 오차가 작아지면 속도가 감소.  \n",
        "* 이항 분류: binary_crossentropy  \n",
        "* 다항 분류: categorical_crossentropy\n"
      ]
    },
    {
      "cell_type": "code",
      "metadata": {
        "id": "zr0C2n-vecAW",
        "colab_type": "code",
        "outputId": "0f083f51-ea7f-4363-df35-433b803de4c1",
        "colab": {
          "base_uri": "https://localhost:8080/",
          "height": 100
        }
      },
      "source": [
        "# 필요한 라이브러리 및 케라스 함수 불러오기\n",
        "import numpy as np\n",
        "import tensorflow as tf\n",
        "from keras import models, layers\n",
        "\n",
        "print(\"tensorflow version: \", tf.__version__)"
      ],
      "execution_count": 0,
      "outputs": [
        {
          "output_type": "display_data",
          "data": {
            "text/html": [
              "<p style=\"color: red;\">\n",
              "The default version of TensorFlow in Colab will soon switch to TensorFlow 2.x.<br>\n",
              "We recommend you <a href=\"https://www.tensorflow.org/guide/migrate\" target=\"_blank\">upgrade</a> now \n",
              "or ensure your notebook will continue to use TensorFlow 1.x via the <code>%tensorflow_version 1.x</code> magic:\n",
              "<a href=\"https://colab.research.google.com/notebooks/tensorflow_version.ipynb\" target=\"_blank\">more info</a>.</p>\n"
            ],
            "text/plain": [
              "<IPython.core.display.HTML object>"
            ]
          },
          "metadata": {
            "tags": []
          }
        },
        {
          "output_type": "stream",
          "text": [
            "tensorflow version:  1.15.0\n"
          ],
          "name": "stdout"
        },
        {
          "output_type": "stream",
          "text": [
            "Using TensorFlow backend.\n"
          ],
          "name": "stderr"
        }
      ]
    },
    {
      "cell_type": "code",
      "metadata": {
        "id": "JwHG5sYJegCF",
        "colab_type": "code",
        "colab": {}
      },
      "source": [
        "# seed 설정\n",
        "seed = 0\n",
        "np.random.seed(seed)\n",
        "tf.set_random_seed(seed)"
      ],
      "execution_count": 0,
      "outputs": []
    },
    {
      "cell_type": "markdown",
      "metadata": {
        "id": "uhY7Hs-onoKt",
        "colab_type": "text"
      },
      "source": [
        "* 일정한 결과값을 얻기 위해서는 numpy seed값과 tensorflow seed값을 모두 설정해줘야 함.  \n",
        "* seed값을 지정해도 출력 값이 미세하게 다를 수 있는데, 이는 텐서플로를 구동하는 cuDNN 등의 내부 소프트웨어가 자체적으로 다른 랜덤 테이블을 생성하기 때문.\n",
        "* 현재 이를 잡아줄 방법이 없기 때문에, 여러번 모델링 후 평균을 구하는 것이 가장 안전."
      ]
    },
    {
      "cell_type": "markdown",
      "metadata": {
        "id": "ONkVIg0Oh5h6",
        "colab_type": "text"
      },
      "source": [
        "데이터 업로드 방법1: 로컬 데이터 colab에 업로드"
      ]
    },
    {
      "cell_type": "code",
      "metadata": {
        "id": "SFQ_uHF1atDr",
        "colab_type": "code",
        "outputId": "5072a0dc-243a-4ecf-a069-c5cd5f248061",
        "colab": {
          "resources": {
            "http://localhost:8080/nbextensions/google.colab/files.js": {
              "data": "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",
              "ok": true,
              "headers": [
                [
                  "content-type",
                  "application/javascript"
                ]
              ],
              "status": 200,
              "status_text": ""
            }
          },
          "base_uri": "https://localhost:8080/",
          "height": 78
        }
      },
      "source": [
        "from google.colab import files\n",
        "uploaded = files.upload()"
      ],
      "execution_count": 0,
      "outputs": [
        {
          "output_type": "display_data",
          "data": {
            "text/html": [
              "\n",
              "     <input type=\"file\" id=\"files-19cae9f8-2471-4ee4-8354-a180b0273a84\" name=\"files[]\" multiple disabled />\n",
              "     <output id=\"result-19cae9f8-2471-4ee4-8354-a180b0273a84\">\n",
              "      Upload widget is only available when the cell has been executed in the\n",
              "      current browser session. Please rerun this cell to enable.\n",
              "      </output>\n",
              "      <script src=\"/nbextensions/google.colab/files.js\"></script> "
            ],
            "text/plain": [
              "<IPython.core.display.HTML object>"
            ]
          },
          "metadata": {
            "tags": []
          }
        },
        {
          "output_type": "stream",
          "text": [
            "Saving ThoraricSurgery.csv to ThoraricSurgery (1).csv\n"
          ],
          "name": "stdout"
        }
      ]
    },
    {
      "cell_type": "markdown",
      "metadata": {
        "id": "bwlvIBpVUipC",
        "colab_type": "text"
      },
      "source": [
        "데이터 업로드 방법2: 구글 드라이브에 마운트해서 데이터 업로드  \n",
        "```\n",
        "from google.colab import drive\n",
        "drive.mount('/gdrive', force_remount=True)\n",
        "```"
      ]
    },
    {
      "cell_type": "code",
      "metadata": {
        "id": "Dmq8Vl-2atLM",
        "colab_type": "code",
        "outputId": "65edf087-4703-4020-9cde-97f2aafd7a66",
        "colab": {
          "base_uri": "https://localhost:8080/",
          "height": 35
        }
      },
      "source": [
        "# 준비된 데이터 불러오기\n",
        "import io\n",
        "Data_set = np.loadtxt(io.StringIO(uploaded['ThoraricSurgery.csv'].decode('utf-8')), delimiter = ',')\n",
        "print(Data_set.shape)\n",
        "# 데이터: 폴란드 브로츠와프 의과대학에서 2013년 공개한 폐암 수술 환자의 수술 전 진단 데이터와 수술 후 생존 결과를 기록한 실제 의료 기록 데이터.\n",
        "# 앞의 17개 정보는 종양의 유형, 폐활량, 호흡 곤란 여부, 고통 정도 등 17가지의 환자 상태. 18번째 정보는 수술 후 생존 결과(1=true,생존/0=false,사망)"
      ],
      "execution_count": 0,
      "outputs": [
        {
          "output_type": "stream",
          "text": [
            "(470, 18)\n"
          ],
          "name": "stdout"
        }
      ]
    },
    {
      "cell_type": "code",
      "metadata": {
        "id": "yOQgSCn3aPNY",
        "colab_type": "code",
        "colab": {}
      },
      "source": [
        "# 환자의 기록과 수술 결과를 X와 Y로 구분하여 저장\n",
        "X = Data_set[:,0:17]\n",
        "Y = Data_set[:,17]"
      ],
      "execution_count": 0,
      "outputs": []
    },
    {
      "cell_type": "code",
      "metadata": {
        "id": "AXraf08NatOa",
        "colab_type": "code",
        "outputId": "c0487dde-c62b-4ed4-8c71-fa19e206db17",
        "colab": {
          "base_uri": "https://localhost:8080/",
          "height": 161
        }
      },
      "source": [
        "# 딥러닝 구조 결정(모델 설정 & 컴파일)\n",
        "# 두개의 층(= # model.add)을 가진 모델  \n",
        "model = models.Sequential()\n",
        "model.add(layers.Dense(30, input_dim=17, activation='relu'))     # 은닉층. 30개의 노드 & 17개의 feature가 들어옴. \n",
        "model.add(layers.Dense(1, activation='sigmoid'))                 # 출력층. units = 1. 1개의 값을 정해서 보내줘야함.\n",
        "\n",
        "model.compile(loss = 'mean_squared_error', optimizer = 'adam', metrics = ['accuracy'])"
      ],
      "execution_count": 0,
      "outputs": [
        {
          "output_type": "stream",
          "text": [
            "WARNING:tensorflow:From /usr/local/lib/python3.6/dist-packages/keras/backend/tensorflow_backend.py:66: The name tf.get_default_graph is deprecated. Please use tf.compat.v1.get_default_graph instead.\n",
            "\n",
            "WARNING:tensorflow:From /usr/local/lib/python3.6/dist-packages/keras/backend/tensorflow_backend.py:541: The name tf.placeholder is deprecated. Please use tf.compat.v1.placeholder instead.\n",
            "\n",
            "WARNING:tensorflow:From /usr/local/lib/python3.6/dist-packages/keras/backend/tensorflow_backend.py:4432: The name tf.random_uniform is deprecated. Please use tf.random.uniform instead.\n",
            "\n",
            "WARNING:tensorflow:From /usr/local/lib/python3.6/dist-packages/keras/optimizers.py:793: The name tf.train.Optimizer is deprecated. Please use tf.compat.v1.train.Optimizer instead.\n",
            "\n"
          ],
          "name": "stdout"
        }
      ]
    },
    {
      "cell_type": "markdown",
      "metadata": {
        "id": "GE2Ek8pbZf-k",
        "colab_type": "text"
      },
      "source": [
        "신경망 모델 도식화(그림 삽입 필요, p.127)"
      ]
    },
    {
      "cell_type": "code",
      "metadata": {
        "id": "eZFfL3EEatRc",
        "colab_type": "code",
        "outputId": "96566d4f-04b6-483c-8cc4-e7f3addc3c59",
        "colab": {
          "base_uri": "https://localhost:8080/",
          "height": 1000
        }
      },
      "source": [
        "# 딥러닝 실행\n",
        "model.fit(X, Y, epochs = 30, batch_size = 10)               # epochs=30: 샘플이 처음부터 끝까지 30번 재사용될 때까지 실행을 반복, batch_size=10: 전체 데이터 샘플을 10개씩 끊어서 넣음.\n",
        "\n",
        "# batch_size가 너무 크면 학습 속도가 느려지고, 너무 작으면 각 실행 값의 편차가 생겨 전체 결과값이 불안정해짐. 컴퓨터 메모리에 따라 설정 필요.\n",
        "\n",
        "# 결과 출력\n",
        "print(\"\\n Accuracy: %.4f\" %(model.evaluate(X,Y)[1]))"
      ],
      "execution_count": 0,
      "outputs": [
        {
          "output_type": "stream",
          "text": [
            "WARNING:tensorflow:From /usr/local/lib/python3.6/dist-packages/keras/backend/tensorflow_backend.py:1033: The name tf.assign_add is deprecated. Please use tf.compat.v1.assign_add instead.\n",
            "\n",
            "WARNING:tensorflow:From /usr/local/lib/python3.6/dist-packages/keras/backend/tensorflow_backend.py:1020: The name tf.assign is deprecated. Please use tf.compat.v1.assign instead.\n",
            "\n",
            "WARNING:tensorflow:From /usr/local/lib/python3.6/dist-packages/keras/backend/tensorflow_backend.py:3005: The name tf.Session is deprecated. Please use tf.compat.v1.Session instead.\n",
            "\n",
            "Epoch 1/30\n",
            "WARNING:tensorflow:From /usr/local/lib/python3.6/dist-packages/keras/backend/tensorflow_backend.py:190: The name tf.get_default_session is deprecated. Please use tf.compat.v1.get_default_session instead.\n",
            "\n",
            "WARNING:tensorflow:From /usr/local/lib/python3.6/dist-packages/keras/backend/tensorflow_backend.py:197: The name tf.ConfigProto is deprecated. Please use tf.compat.v1.ConfigProto instead.\n",
            "\n",
            "WARNING:tensorflow:From /usr/local/lib/python3.6/dist-packages/keras/backend/tensorflow_backend.py:207: The name tf.global_variables is deprecated. Please use tf.compat.v1.global_variables instead.\n",
            "\n",
            "WARNING:tensorflow:From /usr/local/lib/python3.6/dist-packages/keras/backend/tensorflow_backend.py:216: The name tf.is_variable_initialized is deprecated. Please use tf.compat.v1.is_variable_initialized instead.\n",
            "\n",
            "WARNING:tensorflow:From /usr/local/lib/python3.6/dist-packages/keras/backend/tensorflow_backend.py:223: The name tf.variables_initializer is deprecated. Please use tf.compat.v1.variables_initializer instead.\n",
            "\n",
            "470/470 [==============================] - 1s 1ms/step - loss: 0.6647 - acc: 0.3106\n",
            "Epoch 2/30\n",
            "470/470 [==============================] - 0s 107us/step - loss: 0.1488 - acc: 0.8511\n",
            "Epoch 3/30\n",
            "470/470 [==============================] - 0s 104us/step - loss: 0.1488 - acc: 0.8511\n",
            "Epoch 4/30\n",
            "470/470 [==============================] - 0s 100us/step - loss: 0.1488 - acc: 0.8511\n",
            "Epoch 5/30\n",
            "470/470 [==============================] - 0s 108us/step - loss: 0.1488 - acc: 0.8511\n",
            "Epoch 6/30\n",
            "470/470 [==============================] - 0s 113us/step - loss: 0.1487 - acc: 0.8511\n",
            "Epoch 7/30\n",
            "470/470 [==============================] - 0s 106us/step - loss: 0.1487 - acc: 0.8511\n",
            "Epoch 8/30\n",
            "470/470 [==============================] - 0s 114us/step - loss: 0.1487 - acc: 0.8511\n",
            "Epoch 9/30\n",
            "470/470 [==============================] - 0s 142us/step - loss: 0.1487 - acc: 0.8511\n",
            "Epoch 10/30\n",
            "470/470 [==============================] - 0s 107us/step - loss: 0.1486 - acc: 0.8511\n",
            "Epoch 11/30\n",
            "470/470 [==============================] - 0s 123us/step - loss: 0.1498 - acc: 0.8447\n",
            "Epoch 12/30\n",
            "470/470 [==============================] - 0s 99us/step - loss: 0.1487 - acc: 0.8511\n",
            "Epoch 13/30\n",
            "470/470 [==============================] - 0s 97us/step - loss: 0.1485 - acc: 0.8511\n",
            "Epoch 14/30\n",
            "470/470 [==============================] - 0s 105us/step - loss: 0.1483 - acc: 0.8511\n",
            "Epoch 15/30\n",
            "470/470 [==============================] - 0s 101us/step - loss: 0.1485 - acc: 0.8511\n",
            "Epoch 16/30\n",
            "470/470 [==============================] - 0s 107us/step - loss: 0.1490 - acc: 0.8447\n",
            "Epoch 17/30\n",
            "470/470 [==============================] - 0s 100us/step - loss: 0.1479 - acc: 0.8489\n",
            "Epoch 18/30\n",
            "470/470 [==============================] - 0s 100us/step - loss: 0.1482 - acc: 0.8468\n",
            "Epoch 19/30\n",
            "470/470 [==============================] - 0s 111us/step - loss: 0.1477 - acc: 0.8511\n",
            "Epoch 20/30\n",
            "470/470 [==============================] - 0s 110us/step - loss: 0.1480 - acc: 0.8511\n",
            "Epoch 21/30\n",
            "470/470 [==============================] - 0s 106us/step - loss: 0.1475 - acc: 0.8511\n",
            "Epoch 22/30\n",
            "470/470 [==============================] - 0s 110us/step - loss: 0.1469 - acc: 0.8511\n",
            "Epoch 23/30\n",
            "470/470 [==============================] - 0s 105us/step - loss: 0.1467 - acc: 0.8511\n",
            "Epoch 24/30\n",
            "470/470 [==============================] - 0s 108us/step - loss: 0.1476 - acc: 0.8489\n",
            "Epoch 25/30\n",
            "470/470 [==============================] - 0s 109us/step - loss: 0.1471 - acc: 0.8511\n",
            "Epoch 26/30\n",
            "470/470 [==============================] - 0s 102us/step - loss: 0.1466 - acc: 0.8511\n",
            "Epoch 27/30\n",
            "470/470 [==============================] - 0s 110us/step - loss: 0.1472 - acc: 0.8511\n",
            "Epoch 28/30\n",
            "470/470 [==============================] - 0s 104us/step - loss: 0.1471 - acc: 0.8511\n",
            "Epoch 29/30\n",
            "470/470 [==============================] - 0s 105us/step - loss: 0.1471 - acc: 0.8489\n",
            "Epoch 30/30\n",
            "470/470 [==============================] - 0s 132us/step - loss: 0.1461 - acc: 0.8532\n",
            "470/470 [==============================] - 0s 78us/step\n",
            "\n",
            " Accuracy: 0.8511\n"
          ],
          "name": "stdout"
        }
      ]
    }
  ]
}
